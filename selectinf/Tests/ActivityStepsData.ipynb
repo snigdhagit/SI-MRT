{
 "cells": [
  {
   "cell_type": "code",
   "execution_count": 1,
   "id": "dccdb3c7-ed3f-44e7-8acc-0bf032fb3cfb",
   "metadata": {
    "ExecuteTime": {
     "end_time": "2024-11-21T17:53:07.068208Z",
     "start_time": "2024-11-21T17:53:05.365940Z"
    }
   },
   "outputs": [],
   "source": [
    "from selectinf.lasso import lasso\n",
    "from selectinf.Utils.base import selected_targets, selected_targets_WCLS\n",
    "\n",
    "import numpy as np\n",
    "import pandas as pd\n",
    "import statsmodels.api as sm\n",
    "from sklearn import linear_model\n",
    "# from sklearn.model_selection import train_test_split\n",
    "# from sklearn.preprocessing import OneHotEncoder\n",
    "# from sklearn.compose import ColumnTransformer\n",
    "# from sklearn.pipeline import make_pipeline\n",
    "# from sklearn.impute import SimpleImputer\n",
    "\n",
    "import warnings\n",
    "# suppress warnings\n",
    "warnings.filterwarnings('ignore')"
   ]
  },
  {
   "cell_type": "code",
   "outputs": [
    {
     "data": {
      "text/plain": "       ParticipantIdentifier  Value_tran  Notification_c  TimeEnrolled_days  \\\n8                          3    5.661223       -0.225066                 50   \n9                          3    5.596568       -0.225066                 50   \n10                         3    6.017376       -0.225066                 50   \n11                         3    5.671604       -0.225066                 50   \n12                         3    5.495117        0.774934                 51   \n...                      ...         ...             ...                ...   \n34066                    925    5.618588       -0.225066                183   \n34068                    925    6.772508       -0.225066                183   \n34069                    925    7.065186       -0.225066                184   \n34070                    925    4.119037       -0.225066                184   \n34072                    925    3.676301       -0.225066                184   \n\n       Phases  Value_30min_before NotificationType  Baseline_steps  IsWeekend  \\\n8           2               223.0          morning     4037.571429          0   \n9           2                 8.0            lunch     4037.571429          0   \n10          2               438.0        afternoon     4037.571429          0   \n11          2               116.0          evening     4037.571429          0   \n12          2               169.0            lunch     4037.571429          1   \n...       ...                 ...              ...             ...        ...   \n34066       3               737.0            lunch     8030.714286          0   \n34068       3               533.0          evening     8030.714286          0   \n34069       3                77.0          morning     8030.714286          0   \n34070       3               194.0            lunch     8030.714286          0   \n34072       3               371.0          evening     8030.714286          0   \n\n       IsIndoor  ...  Value_30min_before_tran  AgeEnrollment_years  Gender  \\\n8             0  ...                 5.409411              53.4247       F   \n9             0  ...                 2.140066              53.4247       F   \n10            0  ...                 6.083360              53.4247       F   \n11            0  ...                 4.757891              53.4247       F   \n12            1  ...                 5.132853              53.4247       F   \n...         ...  ...                      ...                  ...     ...   \n34066         0  ...                 6.603266              70.4624       F   \n34068         0  ...                 6.279459              70.4624       F   \n34069         0  ...                 4.350278              70.4624       F   \n34070         0  ...                 5.270432              70.4624       F   \n34072         0  ...                 5.917549              70.4624       F   \n\n            Race  ExerciseTimeAgg_min WalkDistanceAgg_m StepsAgg_priorweek  \\\n8      Caucasian                 47.0           5104.05        4277.142857   \n9      Caucasian                 47.0           5104.05        4277.142857   \n10     Caucasian                 47.0           5104.05        4277.142857   \n11     Caucasian                 47.0           5104.05        4277.142857   \n12     Caucasian                  8.0           2885.60        4277.142857   \n...          ...                  ...               ...                ...   \n34066      Asian                 89.0           9037.60        7460.857143   \n34068      Asian                 89.0           9037.60        7460.857143   \n34069      Asian                 57.0           4658.85        7460.857143   \n34070      Asian                 57.0           4658.85        7460.857143   \n34072      Asian                 57.0           4658.85        7460.857143   \n\n       Value_tran_sd_week  Value_tran_sd_priorweek  Distance_m_0  \n8                0.662054                 0.760946    444.874503  \n9                0.662054                 0.760946    444.874503  \n10               0.662054                 0.760946    444.874503  \n11               0.662054                 0.760946    444.874503  \n12               0.662054                 0.760946    444.874503  \n...                   ...                      ...           ...  \n34066            1.761142                 1.404865    484.361600  \n34068            1.761142                 1.404865    484.361600  \n34069            1.761142                 1.404865    484.361600  \n34070            1.761142                 1.404865    484.361600  \n34072            1.761142                 1.404865    484.361600  \n\n[23462 rows x 23 columns]",
      "text/html": "<div>\n<style scoped>\n    .dataframe tbody tr th:only-of-type {\n        vertical-align: middle;\n    }\n\n    .dataframe tbody tr th {\n        vertical-align: top;\n    }\n\n    .dataframe thead th {\n        text-align: right;\n    }\n</style>\n<table border=\"1\" class=\"dataframe\">\n  <thead>\n    <tr style=\"text-align: right;\">\n      <th></th>\n      <th>ParticipantIdentifier</th>\n      <th>Value_tran</th>\n      <th>Notification_c</th>\n      <th>TimeEnrolled_days</th>\n      <th>Phases</th>\n      <th>Value_30min_before</th>\n      <th>NotificationType</th>\n      <th>Baseline_steps</th>\n      <th>IsWeekend</th>\n      <th>IsIndoor</th>\n      <th>...</th>\n      <th>Value_30min_before_tran</th>\n      <th>AgeEnrollment_years</th>\n      <th>Gender</th>\n      <th>Race</th>\n      <th>ExerciseTimeAgg_min</th>\n      <th>WalkDistanceAgg_m</th>\n      <th>StepsAgg_priorweek</th>\n      <th>Value_tran_sd_week</th>\n      <th>Value_tran_sd_priorweek</th>\n      <th>Distance_m_0</th>\n    </tr>\n  </thead>\n  <tbody>\n    <tr>\n      <th>8</th>\n      <td>3</td>\n      <td>5.661223</td>\n      <td>-0.225066</td>\n      <td>50</td>\n      <td>2</td>\n      <td>223.0</td>\n      <td>morning</td>\n      <td>4037.571429</td>\n      <td>0</td>\n      <td>0</td>\n      <td>...</td>\n      <td>5.409411</td>\n      <td>53.4247</td>\n      <td>F</td>\n      <td>Caucasian</td>\n      <td>47.0</td>\n      <td>5104.05</td>\n      <td>4277.142857</td>\n      <td>0.662054</td>\n      <td>0.760946</td>\n      <td>444.874503</td>\n    </tr>\n    <tr>\n      <th>9</th>\n      <td>3</td>\n      <td>5.596568</td>\n      <td>-0.225066</td>\n      <td>50</td>\n      <td>2</td>\n      <td>8.0</td>\n      <td>lunch</td>\n      <td>4037.571429</td>\n      <td>0</td>\n      <td>0</td>\n      <td>...</td>\n      <td>2.140066</td>\n      <td>53.4247</td>\n      <td>F</td>\n      <td>Caucasian</td>\n      <td>47.0</td>\n      <td>5104.05</td>\n      <td>4277.142857</td>\n      <td>0.662054</td>\n      <td>0.760946</td>\n      <td>444.874503</td>\n    </tr>\n    <tr>\n      <th>10</th>\n      <td>3</td>\n      <td>6.017376</td>\n      <td>-0.225066</td>\n      <td>50</td>\n      <td>2</td>\n      <td>438.0</td>\n      <td>afternoon</td>\n      <td>4037.571429</td>\n      <td>0</td>\n      <td>0</td>\n      <td>...</td>\n      <td>6.083360</td>\n      <td>53.4247</td>\n      <td>F</td>\n      <td>Caucasian</td>\n      <td>47.0</td>\n      <td>5104.05</td>\n      <td>4277.142857</td>\n      <td>0.662054</td>\n      <td>0.760946</td>\n      <td>444.874503</td>\n    </tr>\n    <tr>\n      <th>11</th>\n      <td>3</td>\n      <td>5.671604</td>\n      <td>-0.225066</td>\n      <td>50</td>\n      <td>2</td>\n      <td>116.0</td>\n      <td>evening</td>\n      <td>4037.571429</td>\n      <td>0</td>\n      <td>0</td>\n      <td>...</td>\n      <td>4.757891</td>\n      <td>53.4247</td>\n      <td>F</td>\n      <td>Caucasian</td>\n      <td>47.0</td>\n      <td>5104.05</td>\n      <td>4277.142857</td>\n      <td>0.662054</td>\n      <td>0.760946</td>\n      <td>444.874503</td>\n    </tr>\n    <tr>\n      <th>12</th>\n      <td>3</td>\n      <td>5.495117</td>\n      <td>0.774934</td>\n      <td>51</td>\n      <td>2</td>\n      <td>169.0</td>\n      <td>lunch</td>\n      <td>4037.571429</td>\n      <td>1</td>\n      <td>1</td>\n      <td>...</td>\n      <td>5.132853</td>\n      <td>53.4247</td>\n      <td>F</td>\n      <td>Caucasian</td>\n      <td>8.0</td>\n      <td>2885.60</td>\n      <td>4277.142857</td>\n      <td>0.662054</td>\n      <td>0.760946</td>\n      <td>444.874503</td>\n    </tr>\n    <tr>\n      <th>...</th>\n      <td>...</td>\n      <td>...</td>\n      <td>...</td>\n      <td>...</td>\n      <td>...</td>\n      <td>...</td>\n      <td>...</td>\n      <td>...</td>\n      <td>...</td>\n      <td>...</td>\n      <td>...</td>\n      <td>...</td>\n      <td>...</td>\n      <td>...</td>\n      <td>...</td>\n      <td>...</td>\n      <td>...</td>\n      <td>...</td>\n      <td>...</td>\n      <td>...</td>\n      <td>...</td>\n    </tr>\n    <tr>\n      <th>34066</th>\n      <td>925</td>\n      <td>5.618588</td>\n      <td>-0.225066</td>\n      <td>183</td>\n      <td>3</td>\n      <td>737.0</td>\n      <td>lunch</td>\n      <td>8030.714286</td>\n      <td>0</td>\n      <td>0</td>\n      <td>...</td>\n      <td>6.603266</td>\n      <td>70.4624</td>\n      <td>F</td>\n      <td>Asian</td>\n      <td>89.0</td>\n      <td>9037.60</td>\n      <td>7460.857143</td>\n      <td>1.761142</td>\n      <td>1.404865</td>\n      <td>484.361600</td>\n    </tr>\n    <tr>\n      <th>34068</th>\n      <td>925</td>\n      <td>6.772508</td>\n      <td>-0.225066</td>\n      <td>183</td>\n      <td>3</td>\n      <td>533.0</td>\n      <td>evening</td>\n      <td>8030.714286</td>\n      <td>0</td>\n      <td>0</td>\n      <td>...</td>\n      <td>6.279459</td>\n      <td>70.4624</td>\n      <td>F</td>\n      <td>Asian</td>\n      <td>89.0</td>\n      <td>9037.60</td>\n      <td>7460.857143</td>\n      <td>1.761142</td>\n      <td>1.404865</td>\n      <td>484.361600</td>\n    </tr>\n    <tr>\n      <th>34069</th>\n      <td>925</td>\n      <td>7.065186</td>\n      <td>-0.225066</td>\n      <td>184</td>\n      <td>3</td>\n      <td>77.0</td>\n      <td>morning</td>\n      <td>8030.714286</td>\n      <td>0</td>\n      <td>0</td>\n      <td>...</td>\n      <td>4.350278</td>\n      <td>70.4624</td>\n      <td>F</td>\n      <td>Asian</td>\n      <td>57.0</td>\n      <td>4658.85</td>\n      <td>7460.857143</td>\n      <td>1.761142</td>\n      <td>1.404865</td>\n      <td>484.361600</td>\n    </tr>\n    <tr>\n      <th>34070</th>\n      <td>925</td>\n      <td>4.119037</td>\n      <td>-0.225066</td>\n      <td>184</td>\n      <td>3</td>\n      <td>194.0</td>\n      <td>lunch</td>\n      <td>8030.714286</td>\n      <td>0</td>\n      <td>0</td>\n      <td>...</td>\n      <td>5.270432</td>\n      <td>70.4624</td>\n      <td>F</td>\n      <td>Asian</td>\n      <td>57.0</td>\n      <td>4658.85</td>\n      <td>7460.857143</td>\n      <td>1.761142</td>\n      <td>1.404865</td>\n      <td>484.361600</td>\n    </tr>\n    <tr>\n      <th>34072</th>\n      <td>925</td>\n      <td>3.676301</td>\n      <td>-0.225066</td>\n      <td>184</td>\n      <td>3</td>\n      <td>371.0</td>\n      <td>evening</td>\n      <td>8030.714286</td>\n      <td>0</td>\n      <td>0</td>\n      <td>...</td>\n      <td>5.917549</td>\n      <td>70.4624</td>\n      <td>F</td>\n      <td>Asian</td>\n      <td>57.0</td>\n      <td>4658.85</td>\n      <td>7460.857143</td>\n      <td>1.761142</td>\n      <td>1.404865</td>\n      <td>484.361600</td>\n    </tr>\n  </tbody>\n</table>\n<p>23462 rows × 23 columns</p>\n</div>"
     },
     "execution_count": 17,
     "metadata": {},
     "output_type": "execute_result"
    }
   ],
   "source": [
    "AW_df = pd.read_csv('~/Documents/git/SI-MRT/realdata/AW_df.csv')\n",
    "# AW_df.head()\n",
    "variables = [\n",
    "    'ParticipantIdentifier',\n",
    "    'Value_tran',\n",
    "    'Notification_c',\n",
    "    'TimeEnrolled_days',\n",
    "    'Phases',\n",
    "    'Value_30min_before',\n",
    "    'NotificationType',\n",
    "    'Baseline_steps',\n",
    "    'IsWeekend',\n",
    "    'IsIndoor',\n",
    "    'IsLossFramed',\n",
    "    'IsSnow',\n",
    "    'IsActivity',\n",
    "    'Value_30min_before_tran',\n",
    "    'AgeEnrollment_years',\n",
    "    'Gender',\n",
    "    'Race',\n",
    "    'ExerciseTimeAgg_min',\n",
    "    'WalkDistanceAgg_m',\n",
    "    'StepsAgg_priorweek',\n",
    "    'Value_tran_sd_week',\n",
    "    'Value_tran_sd_priorweek',\n",
    "    'Distance_m_0'\n",
    "]\n",
    "\n",
    "#data = AW_df[variables].dropna()\n",
    "data = AW_df[variables].replace([np.inf, -np.inf], np.nan).dropna()\n",
    "\n",
    "\n",
    "# Identify non-numeric columns in the dataset to ensure they are processed correctly\n",
    "# non_numeric_cols = data.select_dtypes(include=['object']).columns\n",
    "# non_numeric_cols\n",
    "\n",
    "# Apply one-hot encoding to the categorical columns and drop the original columns\n",
    "# data = pd.get_dummies(data, columns=non_numeric_cols, drop_first=True)\n",
    "data\n",
    "\n",
    "\n",
    "# # One-hot encode 'Phases'\n",
    "# data['Phase1'] = data['TimeEnrolled_days'] * (data['Phases'] == 1).astype(int)\n",
    "# data['Phase2'] = data['TimeEnrolled_days'] * (data['Phases'] == 2).astype(int)\n",
    "# data['Phase3'] = data['TimeEnrolled_days'] * (data['Phases'] == 3).astype(int)\n",
    "# \n",
    "# \n",
    "# # # Specified subset of variables for interaction with 'Phases'\n",
    "# interaction_vars = [ 'Value_30min_before', 'Baseline_steps',\n",
    "#     'IsWeekend', 'IsActivity','Value_30min_before_tran','ExerciseTimeAgg_min', 'WalkDistanceAgg_m', 'StepsAgg_priorweek',\n",
    "#     'Value_tran_sd_week', 'Distance_m_0', 'IsWeekend']\n",
    "# \n",
    "# # Adding interactions with each phase\n",
    "# for var in interaction_vars:\n",
    "#     for phase in ['Phase2', 'Phase3']:\n",
    "#         interaction_col_name = f'{phase}_{var}'\n",
    "#         data[interaction_col_name] = data[phase] * data[var]\n",
    "#         \n",
    "# # Remove original Phase columns\n",
    "# data = data.drop(columns=['Phase1', 'Phase2', 'Phase3'])\n",
    "\n",
    "## Adding binary columns for NotificationType, Gender, and Race based on conditions\n",
    "# data['Naf'] = (data['NotificationType'] == 'afternoon').astype(int)\n",
    "# data['Nev'] = (data['NotificationType'] == 'evening').astype(int)\n",
    "# data['Nlu'] = (data['NotificationType'] == 'lunch').astype(int)\n",
    "# data['Nmo'] = (data['NotificationType'] == 'morning').astype(int)\n",
    "\n",
    "# data['IsMale'] = (data['Gender'] == 'Male').astype(int)\n",
    "# data['IsCaucasian'] = (data['Race'] == 'Caucasian').astype(int)\n",
    "\n",
    "# data['TPhase2'] = data['TimeEnrolled_days'] * (data['Phases'] == 2).astype(int)\n",
    "# data['TPhase3'] = data['TimeEnrolled_days'] * (data['Phases'] == 3).astype(int)\n",
    "\n",
    "# Remove original 'NotificationType' and 'Gender' columns\n",
    "# data = data.drop(columns=['NotificationType', 'Gender', 'Race', 'Phases'])\n",
    "\n",
    "# data = data.drop(columns=['TimeEnrolled_days'])"
   ],
   "metadata": {
    "collapsed": false,
    "ExecuteTime": {
     "end_time": "2024-11-17T05:57:14.362651Z",
     "start_time": "2024-11-17T05:57:13.602989Z"
    }
   },
   "id": "e71671aa5c66233e",
   "execution_count": 17
  },
  {
   "cell_type": "code",
   "outputs": [
    {
     "name": "stdout",
     "output_type": "stream",
     "text": [
      "/opt/anaconda3/envs/python39/bin/python\n"
     ]
    },
    {
     "ename": "OSError",
     "evalue": "cannot load library '/Library/Frameworks/R.framework/Resources/lib/libR.dylib': dlopen(/Library/Frameworks/R.framework/Resources/lib/libR.dylib, 0x0002): tried: '/Library/Frameworks/R.framework/Resources/lib/libR.dylib' (mach-o file, but is an incompatible architecture (have 'arm64', need 'x86_64')), '/System/Volumes/Preboot/Cryptexes/OS/Library/Frameworks/R.framework/Resources/lib/libR.dylib' (no such file), '/Library/Frameworks/R.framework/Resources/lib/libR.dylib' (mach-o file, but is an incompatible architecture (have 'arm64', need 'x86_64')), '/Library/Frameworks/R.framework/Versions/4.4-arm64/Resources/lib/libR.dylib' (mach-o file, but is an incompatible architecture (have 'arm64', need 'x86_64')), '/System/Volumes/Preboot/Cryptexes/OS/Library/Frameworks/R.framework/Versions/4.4-arm64/Resources/lib/libR.dylib' (no such file), '/Library/Frameworks/R.framework/Versions/4.4-arm64/Resources/lib/libR.dylib' (mach-o file, but is an incompatible architecture (have 'arm64', need 'x86_64'))",
     "output_type": "error",
     "traceback": [
      "\u001B[0;31m---------------------------------------------------------------------------\u001B[0m",
      "\u001B[0;31mOSError\u001B[0m                                   Traceback (most recent call last)",
      "Cell \u001B[0;32mIn[2], line 7\u001B[0m\n\u001B[1;32m      4\u001B[0m \u001B[38;5;28;01mimport\u001B[39;00m \u001B[38;5;21;01msys\u001B[39;00m\n\u001B[1;32m      5\u001B[0m \u001B[38;5;28mprint\u001B[39m(sys\u001B[38;5;241m.\u001B[39mexecutable)\n\u001B[0;32m----> 7\u001B[0m \u001B[38;5;28;01mfrom\u001B[39;00m \u001B[38;5;21;01mrpy2\u001B[39;00m\u001B[38;5;21;01m.\u001B[39;00m\u001B[38;5;21;01mrobjects\u001B[39;00m \u001B[38;5;28;01mimport\u001B[39;00m numpy2ri\n\u001B[1;32m      8\u001B[0m \u001B[38;5;28;01mfrom\u001B[39;00m \u001B[38;5;21;01mrpy2\u001B[39;00m\u001B[38;5;21;01m.\u001B[39;00m\u001B[38;5;21;01mrobjects\u001B[39;00m\u001B[38;5;21;01m.\u001B[39;00m\u001B[38;5;21;01mpackages\u001B[39;00m \u001B[38;5;28;01mimport\u001B[39;00m importr\n\u001B[1;32m     10\u001B[0m \u001B[38;5;66;03m# Activate automatic conversion between numpy arrays and R matrices/vectors\u001B[39;00m\n",
      "File \u001B[0;32m/opt/anaconda3/envs/python39/lib/python3.9/site-packages/rpy2/robjects/__init__.py:16\u001B[0m\n\u001B[1;32m     14\u001B[0m \u001B[38;5;28;01mimport\u001B[39;00m \u001B[38;5;21;01mtypes\u001B[39;00m\n\u001B[1;32m     15\u001B[0m \u001B[38;5;28;01mimport\u001B[39;00m \u001B[38;5;21;01mtyping\u001B[39;00m\n\u001B[0;32m---> 16\u001B[0m \u001B[38;5;28;01mimport\u001B[39;00m \u001B[38;5;21;01mrpy2\u001B[39;00m\u001B[38;5;21;01m.\u001B[39;00m\u001B[38;5;21;01mrinterface\u001B[39;00m \u001B[38;5;28;01mas\u001B[39;00m \u001B[38;5;21;01mrinterface\u001B[39;00m\n\u001B[1;32m     17\u001B[0m \u001B[38;5;28;01mimport\u001B[39;00m \u001B[38;5;21;01mrpy2\u001B[39;00m\u001B[38;5;21;01m.\u001B[39;00m\u001B[38;5;21;01mrinterface_lib\u001B[39;00m\u001B[38;5;21;01m.\u001B[39;00m\u001B[38;5;21;01membedded\u001B[39;00m\n\u001B[1;32m     18\u001B[0m \u001B[38;5;28;01mimport\u001B[39;00m \u001B[38;5;21;01mrpy2\u001B[39;00m\u001B[38;5;21;01m.\u001B[39;00m\u001B[38;5;21;01mrinterface_lib\u001B[39;00m\u001B[38;5;21;01m.\u001B[39;00m\u001B[38;5;21;01mopenrlib\u001B[39;00m\n",
      "File \u001B[0;32m/opt/anaconda3/envs/python39/lib/python3.9/site-packages/rpy2/rinterface.py:19\u001B[0m\n\u001B[1;32m     17\u001B[0m \u001B[38;5;28;01mimport\u001B[39;00m \u001B[38;5;21;01mwarnings\u001B[39;00m\n\u001B[1;32m     18\u001B[0m \u001B[38;5;28;01mfrom\u001B[39;00m \u001B[38;5;21;01mtyping\u001B[39;00m \u001B[38;5;28;01mimport\u001B[39;00m Union\n\u001B[0;32m---> 19\u001B[0m \u001B[38;5;28;01mfrom\u001B[39;00m \u001B[38;5;21;01mrpy2\u001B[39;00m\u001B[38;5;21;01m.\u001B[39;00m\u001B[38;5;21;01mrinterface_lib\u001B[39;00m \u001B[38;5;28;01mimport\u001B[39;00m openrlib\n\u001B[1;32m     20\u001B[0m \u001B[38;5;28;01mimport\u001B[39;00m \u001B[38;5;21;01mrpy2\u001B[39;00m\u001B[38;5;21;01m.\u001B[39;00m\u001B[38;5;21;01mrinterface_lib\u001B[39;00m\u001B[38;5;21;01m.\u001B[39;00m\u001B[38;5;21;01m_rinterface_capi\u001B[39;00m \u001B[38;5;28;01mas\u001B[39;00m \u001B[38;5;21;01m_rinterface\u001B[39;00m\n\u001B[1;32m     21\u001B[0m \u001B[38;5;28;01mimport\u001B[39;00m \u001B[38;5;21;01mrpy2\u001B[39;00m\u001B[38;5;21;01m.\u001B[39;00m\u001B[38;5;21;01mrinterface_lib\u001B[39;00m\u001B[38;5;21;01m.\u001B[39;00m\u001B[38;5;21;01membedded\u001B[39;00m \u001B[38;5;28;01mas\u001B[39;00m \u001B[38;5;21;01membedded\u001B[39;00m\n",
      "File \u001B[0;32m/opt/anaconda3/envs/python39/lib/python3.9/site-packages/rpy2/rinterface_lib/openrlib.py:58\u001B[0m\n\u001B[1;32m     56\u001B[0m     rlib \u001B[38;5;241m=\u001B[39m _rinterface_cffi\u001B[38;5;241m.\u001B[39mlib\n\u001B[1;32m     57\u001B[0m \u001B[38;5;28;01melse\u001B[39;00m:\n\u001B[0;32m---> 58\u001B[0m     rlib \u001B[38;5;241m=\u001B[39m \u001B[43m_dlopen_rlib\u001B[49m\u001B[43m(\u001B[49m\u001B[43mR_HOME\u001B[49m\u001B[43m)\u001B[49m\n\u001B[1;32m     61\u001B[0m \u001B[38;5;66;03m# R macros and functions\u001B[39;00m\n\u001B[1;32m     62\u001B[0m \u001B[38;5;28;01mdef\u001B[39;00m \u001B[38;5;21m_get_symbol_or_fallback\u001B[39m(symbol: \u001B[38;5;28mstr\u001B[39m, fallback: typing\u001B[38;5;241m.\u001B[39mAny):\n",
      "File \u001B[0;32m/opt/anaconda3/envs/python39/lib/python3.9/site-packages/rpy2/rinterface_lib/openrlib.py:51\u001B[0m, in \u001B[0;36m_dlopen_rlib\u001B[0;34m(r_home)\u001B[0m\n\u001B[1;32m     49\u001B[0m     \u001B[38;5;28;01mraise\u001B[39;00m \u001B[38;5;167;01mValueError\u001B[39;00m(\u001B[38;5;124m'\u001B[39m\u001B[38;5;124mThe library path cannot be None.\u001B[39m\u001B[38;5;124m'\u001B[39m)\n\u001B[1;32m     50\u001B[0m \u001B[38;5;28;01melse\u001B[39;00m:\n\u001B[0;32m---> 51\u001B[0m     rlib \u001B[38;5;241m=\u001B[39m \u001B[43mffi\u001B[49m\u001B[38;5;241;43m.\u001B[39;49m\u001B[43mdlopen\u001B[49m\u001B[43m(\u001B[49m\u001B[43mlib_path\u001B[49m\u001B[43m)\u001B[49m\n\u001B[1;32m     52\u001B[0m \u001B[38;5;28;01mreturn\u001B[39;00m rlib\n",
      "\u001B[0;31mOSError\u001B[0m: cannot load library '/Library/Frameworks/R.framework/Resources/lib/libR.dylib': dlopen(/Library/Frameworks/R.framework/Resources/lib/libR.dylib, 0x0002): tried: '/Library/Frameworks/R.framework/Resources/lib/libR.dylib' (mach-o file, but is an incompatible architecture (have 'arm64', need 'x86_64')), '/System/Volumes/Preboot/Cryptexes/OS/Library/Frameworks/R.framework/Resources/lib/libR.dylib' (no such file), '/Library/Frameworks/R.framework/Resources/lib/libR.dylib' (mach-o file, but is an incompatible architecture (have 'arm64', need 'x86_64')), '/Library/Frameworks/R.framework/Versions/4.4-arm64/Resources/lib/libR.dylib' (mach-o file, but is an incompatible architecture (have 'arm64', need 'x86_64')), '/System/Volumes/Preboot/Cryptexes/OS/Library/Frameworks/R.framework/Versions/4.4-arm64/Resources/lib/libR.dylib' (no such file), '/Library/Frameworks/R.framework/Versions/4.4-arm64/Resources/lib/libR.dylib' (mach-o file, but is an incompatible architecture (have 'arm64', need 'x86_64'))"
     ]
    }
   ],
   "source": [
    "import os\n",
    "os.environ['R_HOME'] = '/Library/Frameworks/R.framework/Resources'\n",
    "\n",
    "import sys\n",
    "print(sys.executable)\n",
    "\n",
    "from rpy2.robjects import numpy2ri\n",
    "from rpy2.robjects.packages import importr\n",
    "\n",
    "# Activate automatic conversion between numpy arrays and R matrices/vectors\n",
    "numpy2ri.activate()\n",
    "selectiveInference = importr('selectiveInference')\n",
    "\n",
    "lambda_value = 0.5 * np.median(np.abs(X.T.dot(eps)).max(1))\n",
    "# print(lambda_value)\n",
    "\n",
    "# Fit the standard Lasso without an intercept\n",
    "slf = linear_model.Lasso(alpha=lambda_value/n, fit_intercept=False)\n",
    "\n",
    "slf.fit(X, Y)\n",
    "# print(slf.coef_)\n",
    "nonzerop = slf.coef_ != 0\n",
    "\n",
    "\n",
    "# beta_targetp = np.linalg.pinv(X[:, nonzerop]).dot(X.dot(beta))\n",
    "# print(beta_targetp)\n",
    "# print(nonzerop.sum())        \n",
    "\n",
    "\n",
    "# Apply Polyhedral method from selectiveInference package in R \n",
    "results = selectiveInference.fixedLassoInf(X, Y, slf.coef_, lam=lambda_value, sigma=np.sqrt(dispersion))\n",
    "pvals = np.array(results.rx2('pval'))\n",
    "pci = np.array(results.rx2('ci'))\n",
    "# print(pci)\n"
   ],
   "metadata": {
    "collapsed": false,
    "ExecuteTime": {
     "end_time": "2024-11-21T17:53:12.865632Z",
     "start_time": "2024-11-21T17:53:12.065122Z"
    }
   },
   "id": "d3fb4d2b4a93b0b1",
   "execution_count": 2
  },
  {
   "cell_type": "code",
   "execution_count": 106,
   "id": "3a409047-4439-403b-a96e-8fe154676228",
   "metadata": {
    "ExecuteTime": {
     "end_time": "2024-11-11T09:06:53.488470Z",
     "start_time": "2024-11-11T09:06:52.425623Z"
    }
   },
   "outputs": [
    {
     "ename": "NameError",
     "evalue": "name 'selectiveInference' is not defined",
     "output_type": "error",
     "traceback": [
      "\u001B[0;31m---------------------------------------------------------------------------\u001B[0m",
      "\u001B[0;31mNameError\u001B[0m                                 Traceback (most recent call last)",
      "Cell \u001B[0;32mIn[106], line 18\u001B[0m\n\u001B[1;32m      9\u001B[0m nonzerop \u001B[38;5;241m=\u001B[39m slf\u001B[38;5;241m.\u001B[39mcoef_ \u001B[38;5;241m!=\u001B[39m \u001B[38;5;241m0\u001B[39m\n\u001B[1;32m     12\u001B[0m \u001B[38;5;66;03m# beta_targetp = np.linalg.pinv(X[:, nonzerop]).dot(X.dot(beta))\u001B[39;00m\n\u001B[1;32m     13\u001B[0m \u001B[38;5;66;03m# print(beta_targetp)\u001B[39;00m\n\u001B[1;32m     14\u001B[0m \u001B[38;5;66;03m# print(nonzerop.sum())        \u001B[39;00m\n\u001B[1;32m     15\u001B[0m \n\u001B[1;32m     16\u001B[0m \n\u001B[1;32m     17\u001B[0m \u001B[38;5;66;03m# Apply Polyhedral method from selectiveInference package in R \u001B[39;00m\n\u001B[0;32m---> 18\u001B[0m results \u001B[38;5;241m=\u001B[39m \u001B[43mselectiveInference\u001B[49m\u001B[38;5;241m.\u001B[39mfixedLassoInf(X, Y, slf\u001B[38;5;241m.\u001B[39mcoef_, lam\u001B[38;5;241m=\u001B[39mlambda_value, sigma\u001B[38;5;241m=\u001B[39mnp\u001B[38;5;241m.\u001B[39msqrt(dispersion))\n\u001B[1;32m     19\u001B[0m pvals \u001B[38;5;241m=\u001B[39m np\u001B[38;5;241m.\u001B[39marray(results\u001B[38;5;241m.\u001B[39mrx2(\u001B[38;5;124m'\u001B[39m\u001B[38;5;124mpval\u001B[39m\u001B[38;5;124m'\u001B[39m))\n\u001B[1;32m     20\u001B[0m pci \u001B[38;5;241m=\u001B[39m np\u001B[38;5;241m.\u001B[39marray(results\u001B[38;5;241m.\u001B[39mrx2(\u001B[38;5;124m'\u001B[39m\u001B[38;5;124mci\u001B[39m\u001B[38;5;124m'\u001B[39m))\n",
      "\u001B[0;31mNameError\u001B[0m: name 'selectiveInference' is not defined"
     ]
    }
   ],
   "source": []
  },
  {
   "cell_type": "code",
   "outputs": [
    {
     "ename": "OSError",
     "evalue": "cannot load library '/Library/Frameworks/R.framework/Resources/lib/libR.dylib': dlopen(/Library/Frameworks/R.framework/Resources/lib/libR.dylib, 0x0002): tried: '/Library/Frameworks/R.framework/Resources/lib/libR.dylib' (mach-o file, but is an incompatible architecture (have 'arm64', need 'x86_64')), '/System/Volumes/Preboot/Cryptexes/OS/Library/Frameworks/R.framework/Resources/lib/libR.dylib' (no such file), '/Library/Frameworks/R.framework/Resources/lib/libR.dylib' (mach-o file, but is an incompatible architecture (have 'arm64', need 'x86_64')), '/Library/Frameworks/R.framework/Versions/4.4-arm64/Resources/lib/libR.dylib' (mach-o file, but is an incompatible architecture (have 'arm64', need 'x86_64')), '/System/Volumes/Preboot/Cryptexes/OS/Library/Frameworks/R.framework/Versions/4.4-arm64/Resources/lib/libR.dylib' (no such file), '/Library/Frameworks/R.framework/Versions/4.4-arm64/Resources/lib/libR.dylib' (mach-o file, but is an incompatible architecture (have 'arm64', need 'x86_64'))",
     "output_type": "error",
     "traceback": [
      "\u001B[0;31m---------------------------------------------------------------------------\u001B[0m",
      "\u001B[0;31mOSError\u001B[0m                                   Traceback (most recent call last)",
      "Cell \u001B[0;32mIn[5], line 1\u001B[0m\n\u001B[0;32m----> 1\u001B[0m \u001B[38;5;28;01mfrom\u001B[39;00m \u001B[38;5;21;01mrpy2\u001B[39;00m\u001B[38;5;21;01m.\u001B[39;00m\u001B[38;5;21;01mrobjects\u001B[39;00m \u001B[38;5;28;01mimport\u001B[39;00m numpy2ri\n\u001B[1;32m      2\u001B[0m \u001B[38;5;28;01mfrom\u001B[39;00m \u001B[38;5;21;01mrpy2\u001B[39;00m\u001B[38;5;21;01m.\u001B[39;00m\u001B[38;5;21;01mrobjects\u001B[39;00m\u001B[38;5;21;01m.\u001B[39;00m\u001B[38;5;21;01mpackages\u001B[39;00m \u001B[38;5;28;01mimport\u001B[39;00m importr\n\u001B[1;32m      3\u001B[0m \u001B[38;5;28;01mfrom\u001B[39;00m \u001B[38;5;21;01msklearn\u001B[39;00m \u001B[38;5;28;01mimport\u001B[39;00m linear_model\n",
      "File \u001B[0;32m/opt/anaconda3/envs/python39/lib/python3.9/site-packages/rpy2/robjects/__init__.py:16\u001B[0m\n\u001B[1;32m     14\u001B[0m \u001B[38;5;28;01mimport\u001B[39;00m \u001B[38;5;21;01mtypes\u001B[39;00m\n\u001B[1;32m     15\u001B[0m \u001B[38;5;28;01mimport\u001B[39;00m \u001B[38;5;21;01mtyping\u001B[39;00m\n\u001B[0;32m---> 16\u001B[0m \u001B[38;5;28;01mimport\u001B[39;00m \u001B[38;5;21;01mrpy2\u001B[39;00m\u001B[38;5;21;01m.\u001B[39;00m\u001B[38;5;21;01mrinterface\u001B[39;00m \u001B[38;5;28;01mas\u001B[39;00m \u001B[38;5;21;01mrinterface\u001B[39;00m\n\u001B[1;32m     17\u001B[0m \u001B[38;5;28;01mimport\u001B[39;00m \u001B[38;5;21;01mrpy2\u001B[39;00m\u001B[38;5;21;01m.\u001B[39;00m\u001B[38;5;21;01mrinterface_lib\u001B[39;00m\u001B[38;5;21;01m.\u001B[39;00m\u001B[38;5;21;01membedded\u001B[39;00m\n\u001B[1;32m     18\u001B[0m \u001B[38;5;28;01mimport\u001B[39;00m \u001B[38;5;21;01mrpy2\u001B[39;00m\u001B[38;5;21;01m.\u001B[39;00m\u001B[38;5;21;01mrinterface_lib\u001B[39;00m\u001B[38;5;21;01m.\u001B[39;00m\u001B[38;5;21;01mopenrlib\u001B[39;00m\n",
      "File \u001B[0;32m/opt/anaconda3/envs/python39/lib/python3.9/site-packages/rpy2/rinterface.py:19\u001B[0m\n\u001B[1;32m     17\u001B[0m \u001B[38;5;28;01mimport\u001B[39;00m \u001B[38;5;21;01mwarnings\u001B[39;00m\n\u001B[1;32m     18\u001B[0m \u001B[38;5;28;01mfrom\u001B[39;00m \u001B[38;5;21;01mtyping\u001B[39;00m \u001B[38;5;28;01mimport\u001B[39;00m Union\n\u001B[0;32m---> 19\u001B[0m \u001B[38;5;28;01mfrom\u001B[39;00m \u001B[38;5;21;01mrpy2\u001B[39;00m\u001B[38;5;21;01m.\u001B[39;00m\u001B[38;5;21;01mrinterface_lib\u001B[39;00m \u001B[38;5;28;01mimport\u001B[39;00m openrlib\n\u001B[1;32m     20\u001B[0m \u001B[38;5;28;01mimport\u001B[39;00m \u001B[38;5;21;01mrpy2\u001B[39;00m\u001B[38;5;21;01m.\u001B[39;00m\u001B[38;5;21;01mrinterface_lib\u001B[39;00m\u001B[38;5;21;01m.\u001B[39;00m\u001B[38;5;21;01m_rinterface_capi\u001B[39;00m \u001B[38;5;28;01mas\u001B[39;00m \u001B[38;5;21;01m_rinterface\u001B[39;00m\n\u001B[1;32m     21\u001B[0m \u001B[38;5;28;01mimport\u001B[39;00m \u001B[38;5;21;01mrpy2\u001B[39;00m\u001B[38;5;21;01m.\u001B[39;00m\u001B[38;5;21;01mrinterface_lib\u001B[39;00m\u001B[38;5;21;01m.\u001B[39;00m\u001B[38;5;21;01membedded\u001B[39;00m \u001B[38;5;28;01mas\u001B[39;00m \u001B[38;5;21;01membedded\u001B[39;00m\n",
      "File \u001B[0;32m/opt/anaconda3/envs/python39/lib/python3.9/site-packages/rpy2/rinterface_lib/openrlib.py:58\u001B[0m\n\u001B[1;32m     56\u001B[0m     rlib \u001B[38;5;241m=\u001B[39m _rinterface_cffi\u001B[38;5;241m.\u001B[39mlib\n\u001B[1;32m     57\u001B[0m \u001B[38;5;28;01melse\u001B[39;00m:\n\u001B[0;32m---> 58\u001B[0m     rlib \u001B[38;5;241m=\u001B[39m \u001B[43m_dlopen_rlib\u001B[49m\u001B[43m(\u001B[49m\u001B[43mR_HOME\u001B[49m\u001B[43m)\u001B[49m\n\u001B[1;32m     61\u001B[0m \u001B[38;5;66;03m# R macros and functions\u001B[39;00m\n\u001B[1;32m     62\u001B[0m \u001B[38;5;28;01mdef\u001B[39;00m \u001B[38;5;21m_get_symbol_or_fallback\u001B[39m(symbol: \u001B[38;5;28mstr\u001B[39m, fallback: typing\u001B[38;5;241m.\u001B[39mAny):\n",
      "File \u001B[0;32m/opt/anaconda3/envs/python39/lib/python3.9/site-packages/rpy2/rinterface_lib/openrlib.py:51\u001B[0m, in \u001B[0;36m_dlopen_rlib\u001B[0;34m(r_home)\u001B[0m\n\u001B[1;32m     49\u001B[0m     \u001B[38;5;28;01mraise\u001B[39;00m \u001B[38;5;167;01mValueError\u001B[39;00m(\u001B[38;5;124m'\u001B[39m\u001B[38;5;124mThe library path cannot be None.\u001B[39m\u001B[38;5;124m'\u001B[39m)\n\u001B[1;32m     50\u001B[0m \u001B[38;5;28;01melse\u001B[39;00m:\n\u001B[0;32m---> 51\u001B[0m     rlib \u001B[38;5;241m=\u001B[39m \u001B[43mffi\u001B[49m\u001B[38;5;241;43m.\u001B[39;49m\u001B[43mdlopen\u001B[49m\u001B[43m(\u001B[49m\u001B[43mlib_path\u001B[49m\u001B[43m)\u001B[49m\n\u001B[1;32m     52\u001B[0m \u001B[38;5;28;01mreturn\u001B[39;00m rlib\n",
      "\u001B[0;31mOSError\u001B[0m: cannot load library '/Library/Frameworks/R.framework/Resources/lib/libR.dylib': dlopen(/Library/Frameworks/R.framework/Resources/lib/libR.dylib, 0x0002): tried: '/Library/Frameworks/R.framework/Resources/lib/libR.dylib' (mach-o file, but is an incompatible architecture (have 'arm64', need 'x86_64')), '/System/Volumes/Preboot/Cryptexes/OS/Library/Frameworks/R.framework/Resources/lib/libR.dylib' (no such file), '/Library/Frameworks/R.framework/Resources/lib/libR.dylib' (mach-o file, but is an incompatible architecture (have 'arm64', need 'x86_64')), '/Library/Frameworks/R.framework/Versions/4.4-arm64/Resources/lib/libR.dylib' (mach-o file, but is an incompatible architecture (have 'arm64', need 'x86_64')), '/System/Volumes/Preboot/Cryptexes/OS/Library/Frameworks/R.framework/Versions/4.4-arm64/Resources/lib/libR.dylib' (no such file), '/Library/Frameworks/R.framework/Versions/4.4-arm64/Resources/lib/libR.dylib' (mach-o file, but is an incompatible architecture (have 'arm64', need 'x86_64'))"
     ]
    }
   ],
   "source": [],
   "metadata": {
    "collapsed": false,
    "ExecuteTime": {
     "end_time": "2024-11-11T10:21:13.045760Z",
     "start_time": "2024-11-11T10:21:12.625676Z"
    }
   },
   "id": "fb195fe0cd62623a",
   "execution_count": 5
  },
  {
   "cell_type": "code",
   "outputs": [
    {
     "ename": "KeyError",
     "evalue": "'TimeEnrolled_days'",
     "output_type": "error",
     "traceback": [
      "\u001B[0;31m---------------------------------------------------------------------------\u001B[0m",
      "\u001B[0;31mKeyError\u001B[0m                                  Traceback (most recent call last)",
      "File \u001B[0;32m/opt/anaconda3/envs/python39/lib/python3.9/site-packages/pandas/core/indexes/base.py:3805\u001B[0m, in \u001B[0;36mIndex.get_loc\u001B[0;34m(self, key)\u001B[0m\n\u001B[1;32m   3804\u001B[0m \u001B[38;5;28;01mtry\u001B[39;00m:\n\u001B[0;32m-> 3805\u001B[0m     \u001B[38;5;28;01mreturn\u001B[39;00m \u001B[38;5;28;43mself\u001B[39;49m\u001B[38;5;241;43m.\u001B[39;49m\u001B[43m_engine\u001B[49m\u001B[38;5;241;43m.\u001B[39;49m\u001B[43mget_loc\u001B[49m\u001B[43m(\u001B[49m\u001B[43mcasted_key\u001B[49m\u001B[43m)\u001B[49m\n\u001B[1;32m   3806\u001B[0m \u001B[38;5;28;01mexcept\u001B[39;00m \u001B[38;5;167;01mKeyError\u001B[39;00m \u001B[38;5;28;01mas\u001B[39;00m err:\n",
      "File \u001B[0;32mindex.pyx:167\u001B[0m, in \u001B[0;36mpandas._libs.index.IndexEngine.get_loc\u001B[0;34m()\u001B[0m\n",
      "File \u001B[0;32mindex.pyx:196\u001B[0m, in \u001B[0;36mpandas._libs.index.IndexEngine.get_loc\u001B[0;34m()\u001B[0m\n",
      "File \u001B[0;32mpandas/_libs/hashtable_class_helper.pxi:7081\u001B[0m, in \u001B[0;36mpandas._libs.hashtable.PyObjectHashTable.get_item\u001B[0;34m()\u001B[0m\n",
      "File \u001B[0;32mpandas/_libs/hashtable_class_helper.pxi:7089\u001B[0m, in \u001B[0;36mpandas._libs.hashtable.PyObjectHashTable.get_item\u001B[0;34m()\u001B[0m\n",
      "\u001B[0;31mKeyError\u001B[0m: 'TimeEnrolled_days'",
      "\nThe above exception was the direct cause of the following exception:\n",
      "\u001B[0;31mKeyError\u001B[0m                                  Traceback (most recent call last)",
      "Cell \u001B[0;32mIn[116], line 4\u001B[0m\n\u001B[1;32m      1\u001B[0m \u001B[38;5;28;01mfrom\u001B[39;00m \u001B[38;5;21;01mpatsy\u001B[39;00m \u001B[38;5;28;01mimport\u001B[39;00m dmatrix\n\u001B[1;32m      3\u001B[0m \u001B[38;5;66;03m# Define knots for spline basis\u001B[39;00m\n\u001B[0;32m----> 4\u001B[0m knots \u001B[38;5;241m=\u001B[39m [data[\u001B[38;5;124m'\u001B[39m\u001B[38;5;124mTimeEnrolled_days\u001B[39m\u001B[38;5;124m'\u001B[39m]\u001B[38;5;241m.\u001B[39mquantile(q) \u001B[38;5;28;01mfor\u001B[39;00m q \u001B[38;5;129;01min\u001B[39;00m [\u001B[38;5;241m0.25\u001B[39m, \u001B[38;5;241m0.5\u001B[39m, \u001B[38;5;241m0.75\u001B[39m]]\n\u001B[1;32m      6\u001B[0m \u001B[38;5;66;03m# Create spline basis for TimeEnrolled_days\u001B[39;00m\n\u001B[1;32m      7\u001B[0m spline_basis \u001B[38;5;241m=\u001B[39m dmatrix(\n\u001B[1;32m      8\u001B[0m     \u001B[38;5;124m\"\u001B[39m\u001B[38;5;124mbs(TimeEnrolled_days, knots=knots, degree=3, include_intercept=False)\u001B[39m\u001B[38;5;124m\"\u001B[39m, \n\u001B[1;32m      9\u001B[0m     {\u001B[38;5;124m\"\u001B[39m\u001B[38;5;124mTimeEnrolled_days\u001B[39m\u001B[38;5;124m\"\u001B[39m: data[\u001B[38;5;124m'\u001B[39m\u001B[38;5;124mTimeEnrolled_days\u001B[39m\u001B[38;5;124m'\u001B[39m]}, \n\u001B[1;32m     10\u001B[0m     return_type\u001B[38;5;241m=\u001B[39m\u001B[38;5;124m'\u001B[39m\u001B[38;5;124mdataframe\u001B[39m\u001B[38;5;124m'\u001B[39m\n\u001B[1;32m     11\u001B[0m )\n",
      "Cell \u001B[0;32mIn[116], line 4\u001B[0m, in \u001B[0;36m<listcomp>\u001B[0;34m(.0)\u001B[0m\n\u001B[1;32m      1\u001B[0m \u001B[38;5;28;01mfrom\u001B[39;00m \u001B[38;5;21;01mpatsy\u001B[39;00m \u001B[38;5;28;01mimport\u001B[39;00m dmatrix\n\u001B[1;32m      3\u001B[0m \u001B[38;5;66;03m# Define knots for spline basis\u001B[39;00m\n\u001B[0;32m----> 4\u001B[0m knots \u001B[38;5;241m=\u001B[39m [\u001B[43mdata\u001B[49m\u001B[43m[\u001B[49m\u001B[38;5;124;43m'\u001B[39;49m\u001B[38;5;124;43mTimeEnrolled_days\u001B[39;49m\u001B[38;5;124;43m'\u001B[39;49m\u001B[43m]\u001B[49m\u001B[38;5;241m.\u001B[39mquantile(q) \u001B[38;5;28;01mfor\u001B[39;00m q \u001B[38;5;129;01min\u001B[39;00m [\u001B[38;5;241m0.25\u001B[39m, \u001B[38;5;241m0.5\u001B[39m, \u001B[38;5;241m0.75\u001B[39m]]\n\u001B[1;32m      6\u001B[0m \u001B[38;5;66;03m# Create spline basis for TimeEnrolled_days\u001B[39;00m\n\u001B[1;32m      7\u001B[0m spline_basis \u001B[38;5;241m=\u001B[39m dmatrix(\n\u001B[1;32m      8\u001B[0m     \u001B[38;5;124m\"\u001B[39m\u001B[38;5;124mbs(TimeEnrolled_days, knots=knots, degree=3, include_intercept=False)\u001B[39m\u001B[38;5;124m\"\u001B[39m, \n\u001B[1;32m      9\u001B[0m     {\u001B[38;5;124m\"\u001B[39m\u001B[38;5;124mTimeEnrolled_days\u001B[39m\u001B[38;5;124m\"\u001B[39m: data[\u001B[38;5;124m'\u001B[39m\u001B[38;5;124mTimeEnrolled_days\u001B[39m\u001B[38;5;124m'\u001B[39m]}, \n\u001B[1;32m     10\u001B[0m     return_type\u001B[38;5;241m=\u001B[39m\u001B[38;5;124m'\u001B[39m\u001B[38;5;124mdataframe\u001B[39m\u001B[38;5;124m'\u001B[39m\n\u001B[1;32m     11\u001B[0m )\n",
      "File \u001B[0;32m/opt/anaconda3/envs/python39/lib/python3.9/site-packages/pandas/core/frame.py:4102\u001B[0m, in \u001B[0;36mDataFrame.__getitem__\u001B[0;34m(self, key)\u001B[0m\n\u001B[1;32m   4100\u001B[0m \u001B[38;5;28;01mif\u001B[39;00m \u001B[38;5;28mself\u001B[39m\u001B[38;5;241m.\u001B[39mcolumns\u001B[38;5;241m.\u001B[39mnlevels \u001B[38;5;241m>\u001B[39m \u001B[38;5;241m1\u001B[39m:\n\u001B[1;32m   4101\u001B[0m     \u001B[38;5;28;01mreturn\u001B[39;00m \u001B[38;5;28mself\u001B[39m\u001B[38;5;241m.\u001B[39m_getitem_multilevel(key)\n\u001B[0;32m-> 4102\u001B[0m indexer \u001B[38;5;241m=\u001B[39m \u001B[38;5;28;43mself\u001B[39;49m\u001B[38;5;241;43m.\u001B[39;49m\u001B[43mcolumns\u001B[49m\u001B[38;5;241;43m.\u001B[39;49m\u001B[43mget_loc\u001B[49m\u001B[43m(\u001B[49m\u001B[43mkey\u001B[49m\u001B[43m)\u001B[49m\n\u001B[1;32m   4103\u001B[0m \u001B[38;5;28;01mif\u001B[39;00m is_integer(indexer):\n\u001B[1;32m   4104\u001B[0m     indexer \u001B[38;5;241m=\u001B[39m [indexer]\n",
      "File \u001B[0;32m/opt/anaconda3/envs/python39/lib/python3.9/site-packages/pandas/core/indexes/base.py:3812\u001B[0m, in \u001B[0;36mIndex.get_loc\u001B[0;34m(self, key)\u001B[0m\n\u001B[1;32m   3807\u001B[0m     \u001B[38;5;28;01mif\u001B[39;00m \u001B[38;5;28misinstance\u001B[39m(casted_key, \u001B[38;5;28mslice\u001B[39m) \u001B[38;5;129;01mor\u001B[39;00m (\n\u001B[1;32m   3808\u001B[0m         \u001B[38;5;28misinstance\u001B[39m(casted_key, abc\u001B[38;5;241m.\u001B[39mIterable)\n\u001B[1;32m   3809\u001B[0m         \u001B[38;5;129;01mand\u001B[39;00m \u001B[38;5;28many\u001B[39m(\u001B[38;5;28misinstance\u001B[39m(x, \u001B[38;5;28mslice\u001B[39m) \u001B[38;5;28;01mfor\u001B[39;00m x \u001B[38;5;129;01min\u001B[39;00m casted_key)\n\u001B[1;32m   3810\u001B[0m     ):\n\u001B[1;32m   3811\u001B[0m         \u001B[38;5;28;01mraise\u001B[39;00m InvalidIndexError(key)\n\u001B[0;32m-> 3812\u001B[0m     \u001B[38;5;28;01mraise\u001B[39;00m \u001B[38;5;167;01mKeyError\u001B[39;00m(key) \u001B[38;5;28;01mfrom\u001B[39;00m \u001B[38;5;21;01merr\u001B[39;00m\n\u001B[1;32m   3813\u001B[0m \u001B[38;5;28;01mexcept\u001B[39;00m \u001B[38;5;167;01mTypeError\u001B[39;00m:\n\u001B[1;32m   3814\u001B[0m     \u001B[38;5;66;03m# If we have a listlike key, _check_indexing_error will raise\u001B[39;00m\n\u001B[1;32m   3815\u001B[0m     \u001B[38;5;66;03m#  InvalidIndexError. Otherwise we fall through and re-raise\u001B[39;00m\n\u001B[1;32m   3816\u001B[0m     \u001B[38;5;66;03m#  the TypeError.\u001B[39;00m\n\u001B[1;32m   3817\u001B[0m     \u001B[38;5;28mself\u001B[39m\u001B[38;5;241m.\u001B[39m_check_indexing_error(key)\n",
      "\u001B[0;31mKeyError\u001B[0m: 'TimeEnrolled_days'"
     ]
    }
   ],
   "source": [
    "from patsy import dmatrix\n",
    "\n",
    "# Define knots for spline basis\n",
    "knots = [data['TimeEnrolled_days'].quantile(q) for q in [0.25, 0.5, 0.75]]\n",
    "\n",
    "# Create spline basis for TimeEnrolled_days\n",
    "spline_basis = dmatrix(\n",
    "    \"bs(TimeEnrolled_days, knots=knots, degree=3, include_intercept=False)\", \n",
    "    {\"TimeEnrolled_days\": data['TimeEnrolled_days']}, \n",
    "    return_type='dataframe'\n",
    ")\n",
    "\n",
    "# Rename spline columns\n",
    "spline_basis.columns = [f\"spline_TED_{i}\" for i in range(spline_basis.shape[1])]\n",
    "\n",
    "# Merge spline basis with data and drop the original TimeEnrolled_days\n",
    "data = data.drop(columns=['TimeEnrolled_days']).join(spline_basis)\n",
    "\n",
    "# Interact spline basis with other covariates to make spline-linear in Phase\n",
    "for var in data.columns:\n",
    "    if var not in ['ParticipantIdentifier', 'Value_tran', 'Notification_c']:\n",
    "        for i in range(spline_basis.shape[1]):\n",
    "            data[f\"{var}_TED_{i}\"] = data[var] * spline_basis[f\"spline_TED_{i}\"]"
   ],
   "metadata": {
    "collapsed": false,
    "ExecuteTime": {
     "end_time": "2024-11-08T04:34:04.323780Z",
     "start_time": "2024-11-08T04:34:04.258705Z"
    }
   },
   "id": "ca63e6edbf5bef0b",
   "execution_count": 116
  },
  {
   "cell_type": "code",
   "outputs": [
    {
     "data": {
      "text/plain": "       ParticipantIdentifier  Value_tran  Notification_c  TimeEnrolled_days  \\\n8                          3    5.661223       -0.225066                 50   \n9                          3    5.596568       -0.225066                 50   \n10                         3    6.017376       -0.225066                 50   \n11                         3    5.671604       -0.225066                 50   \n12                         3    5.495117        0.774934                 51   \n...                      ...         ...             ...                ...   \n34066                    925    5.618588       -0.225066                183   \n34068                    925    6.772508       -0.225066                183   \n34069                    925    7.065186       -0.225066                184   \n34070                    925    4.119037       -0.225066                184   \n34072                    925    3.676301       -0.225066                184   \n\n       Phases  Value_30min_before  Baseline_steps  IsWeekend  IsIndoor  \\\n8           2               223.0     4037.571429          0         0   \n9           2                 8.0     4037.571429          0         0   \n10          2               438.0     4037.571429          0         0   \n11          2               116.0     4037.571429          0         0   \n12          2               169.0     4037.571429          1         1   \n...       ...                 ...             ...        ...       ...   \n34066       3               737.0     8030.714286          0         0   \n34068       3               533.0     8030.714286          0         0   \n34069       3                77.0     8030.714286          0         0   \n34070       3               194.0     8030.714286          0         0   \n34072       3               371.0     8030.714286          0         0   \n\n       IsLossFramed  ...  Phase2_WalkDistanceAgg_m  Phase3_WalkDistanceAgg_m  \\\n8                 0  ...                   5104.05                      0.00   \n9                 0  ...                   5104.05                      0.00   \n10                0  ...                   5104.05                      0.00   \n11                0  ...                   5104.05                      0.00   \n12                0  ...                   2885.60                      0.00   \n...             ...  ...                       ...                       ...   \n34066             0  ...                      0.00                   9037.60   \n34068             0  ...                      0.00                   9037.60   \n34069             0  ...                      0.00                   4658.85   \n34070             0  ...                      0.00                   4658.85   \n34072             0  ...                      0.00                   4658.85   \n\n       Phase2_StepsAgg_priorweek  Phase3_StepsAgg_priorweek  \\\n8                    4277.142857                   0.000000   \n9                    4277.142857                   0.000000   \n10                   4277.142857                   0.000000   \n11                   4277.142857                   0.000000   \n12                   4277.142857                   0.000000   \n...                          ...                        ...   \n34066                   0.000000                7460.857143   \n34068                   0.000000                7460.857143   \n34069                   0.000000                7460.857143   \n34070                   0.000000                7460.857143   \n34072                   0.000000                7460.857143   \n\n       Phase2_Value_tran_sd_week  Phase3_Value_tran_sd_week  \\\n8                       0.662054                   0.000000   \n9                       0.662054                   0.000000   \n10                      0.662054                   0.000000   \n11                      0.662054                   0.000000   \n12                      0.662054                   0.000000   \n...                          ...                        ...   \n34066                   0.000000                   1.761142   \n34068                   0.000000                   1.761142   \n34069                   0.000000                   1.761142   \n34070                   0.000000                   1.761142   \n34072                   0.000000                   1.761142   \n\n       Phase2_Value_tran_sd_priorweek  Phase3_Value_tran_sd_priorweek  \\\n8                            0.760946                        0.000000   \n9                            0.760946                        0.000000   \n10                           0.760946                        0.000000   \n11                           0.760946                        0.000000   \n12                           0.760946                        0.000000   \n...                               ...                             ...   \n34066                        0.000000                        1.404865   \n34068                        0.000000                        1.404865   \n34069                        0.000000                        1.404865   \n34070                        0.000000                        1.404865   \n34072                        0.000000                        1.404865   \n\n       Phase2_Distance_m_0  Phase3_Distance_m_0  \n8               444.874503               0.0000  \n9               444.874503               0.0000  \n10              444.874503               0.0000  \n11              444.874503               0.0000  \n12              444.874503               0.0000  \n...                    ...                  ...  \n34066             0.000000             484.3616  \n34068             0.000000             484.3616  \n34069             0.000000             484.3616  \n34070             0.000000             484.3616  \n34072             0.000000             484.3616  \n\n[23462 rows x 51 columns]",
      "text/html": "<div>\n<style scoped>\n    .dataframe tbody tr th:only-of-type {\n        vertical-align: middle;\n    }\n\n    .dataframe tbody tr th {\n        vertical-align: top;\n    }\n\n    .dataframe thead th {\n        text-align: right;\n    }\n</style>\n<table border=\"1\" class=\"dataframe\">\n  <thead>\n    <tr style=\"text-align: right;\">\n      <th></th>\n      <th>ParticipantIdentifier</th>\n      <th>Value_tran</th>\n      <th>Notification_c</th>\n      <th>TimeEnrolled_days</th>\n      <th>Phases</th>\n      <th>Value_30min_before</th>\n      <th>Baseline_steps</th>\n      <th>IsWeekend</th>\n      <th>IsIndoor</th>\n      <th>IsLossFramed</th>\n      <th>...</th>\n      <th>Phase2_WalkDistanceAgg_m</th>\n      <th>Phase3_WalkDistanceAgg_m</th>\n      <th>Phase2_StepsAgg_priorweek</th>\n      <th>Phase3_StepsAgg_priorweek</th>\n      <th>Phase2_Value_tran_sd_week</th>\n      <th>Phase3_Value_tran_sd_week</th>\n      <th>Phase2_Value_tran_sd_priorweek</th>\n      <th>Phase3_Value_tran_sd_priorweek</th>\n      <th>Phase2_Distance_m_0</th>\n      <th>Phase3_Distance_m_0</th>\n    </tr>\n  </thead>\n  <tbody>\n    <tr>\n      <th>8</th>\n      <td>3</td>\n      <td>5.661223</td>\n      <td>-0.225066</td>\n      <td>50</td>\n      <td>2</td>\n      <td>223.0</td>\n      <td>4037.571429</td>\n      <td>0</td>\n      <td>0</td>\n      <td>0</td>\n      <td>...</td>\n      <td>5104.05</td>\n      <td>0.00</td>\n      <td>4277.142857</td>\n      <td>0.000000</td>\n      <td>0.662054</td>\n      <td>0.000000</td>\n      <td>0.760946</td>\n      <td>0.000000</td>\n      <td>444.874503</td>\n      <td>0.0000</td>\n    </tr>\n    <tr>\n      <th>9</th>\n      <td>3</td>\n      <td>5.596568</td>\n      <td>-0.225066</td>\n      <td>50</td>\n      <td>2</td>\n      <td>8.0</td>\n      <td>4037.571429</td>\n      <td>0</td>\n      <td>0</td>\n      <td>0</td>\n      <td>...</td>\n      <td>5104.05</td>\n      <td>0.00</td>\n      <td>4277.142857</td>\n      <td>0.000000</td>\n      <td>0.662054</td>\n      <td>0.000000</td>\n      <td>0.760946</td>\n      <td>0.000000</td>\n      <td>444.874503</td>\n      <td>0.0000</td>\n    </tr>\n    <tr>\n      <th>10</th>\n      <td>3</td>\n      <td>6.017376</td>\n      <td>-0.225066</td>\n      <td>50</td>\n      <td>2</td>\n      <td>438.0</td>\n      <td>4037.571429</td>\n      <td>0</td>\n      <td>0</td>\n      <td>0</td>\n      <td>...</td>\n      <td>5104.05</td>\n      <td>0.00</td>\n      <td>4277.142857</td>\n      <td>0.000000</td>\n      <td>0.662054</td>\n      <td>0.000000</td>\n      <td>0.760946</td>\n      <td>0.000000</td>\n      <td>444.874503</td>\n      <td>0.0000</td>\n    </tr>\n    <tr>\n      <th>11</th>\n      <td>3</td>\n      <td>5.671604</td>\n      <td>-0.225066</td>\n      <td>50</td>\n      <td>2</td>\n      <td>116.0</td>\n      <td>4037.571429</td>\n      <td>0</td>\n      <td>0</td>\n      <td>0</td>\n      <td>...</td>\n      <td>5104.05</td>\n      <td>0.00</td>\n      <td>4277.142857</td>\n      <td>0.000000</td>\n      <td>0.662054</td>\n      <td>0.000000</td>\n      <td>0.760946</td>\n      <td>0.000000</td>\n      <td>444.874503</td>\n      <td>0.0000</td>\n    </tr>\n    <tr>\n      <th>12</th>\n      <td>3</td>\n      <td>5.495117</td>\n      <td>0.774934</td>\n      <td>51</td>\n      <td>2</td>\n      <td>169.0</td>\n      <td>4037.571429</td>\n      <td>1</td>\n      <td>1</td>\n      <td>0</td>\n      <td>...</td>\n      <td>2885.60</td>\n      <td>0.00</td>\n      <td>4277.142857</td>\n      <td>0.000000</td>\n      <td>0.662054</td>\n      <td>0.000000</td>\n      <td>0.760946</td>\n      <td>0.000000</td>\n      <td>444.874503</td>\n      <td>0.0000</td>\n    </tr>\n    <tr>\n      <th>...</th>\n      <td>...</td>\n      <td>...</td>\n      <td>...</td>\n      <td>...</td>\n      <td>...</td>\n      <td>...</td>\n      <td>...</td>\n      <td>...</td>\n      <td>...</td>\n      <td>...</td>\n      <td>...</td>\n      <td>...</td>\n      <td>...</td>\n      <td>...</td>\n      <td>...</td>\n      <td>...</td>\n      <td>...</td>\n      <td>...</td>\n      <td>...</td>\n      <td>...</td>\n      <td>...</td>\n    </tr>\n    <tr>\n      <th>34066</th>\n      <td>925</td>\n      <td>5.618588</td>\n      <td>-0.225066</td>\n      <td>183</td>\n      <td>3</td>\n      <td>737.0</td>\n      <td>8030.714286</td>\n      <td>0</td>\n      <td>0</td>\n      <td>0</td>\n      <td>...</td>\n      <td>0.00</td>\n      <td>9037.60</td>\n      <td>0.000000</td>\n      <td>7460.857143</td>\n      <td>0.000000</td>\n      <td>1.761142</td>\n      <td>0.000000</td>\n      <td>1.404865</td>\n      <td>0.000000</td>\n      <td>484.3616</td>\n    </tr>\n    <tr>\n      <th>34068</th>\n      <td>925</td>\n      <td>6.772508</td>\n      <td>-0.225066</td>\n      <td>183</td>\n      <td>3</td>\n      <td>533.0</td>\n      <td>8030.714286</td>\n      <td>0</td>\n      <td>0</td>\n      <td>0</td>\n      <td>...</td>\n      <td>0.00</td>\n      <td>9037.60</td>\n      <td>0.000000</td>\n      <td>7460.857143</td>\n      <td>0.000000</td>\n      <td>1.761142</td>\n      <td>0.000000</td>\n      <td>1.404865</td>\n      <td>0.000000</td>\n      <td>484.3616</td>\n    </tr>\n    <tr>\n      <th>34069</th>\n      <td>925</td>\n      <td>7.065186</td>\n      <td>-0.225066</td>\n      <td>184</td>\n      <td>3</td>\n      <td>77.0</td>\n      <td>8030.714286</td>\n      <td>0</td>\n      <td>0</td>\n      <td>0</td>\n      <td>...</td>\n      <td>0.00</td>\n      <td>4658.85</td>\n      <td>0.000000</td>\n      <td>7460.857143</td>\n      <td>0.000000</td>\n      <td>1.761142</td>\n      <td>0.000000</td>\n      <td>1.404865</td>\n      <td>0.000000</td>\n      <td>484.3616</td>\n    </tr>\n    <tr>\n      <th>34070</th>\n      <td>925</td>\n      <td>4.119037</td>\n      <td>-0.225066</td>\n      <td>184</td>\n      <td>3</td>\n      <td>194.0</td>\n      <td>8030.714286</td>\n      <td>0</td>\n      <td>0</td>\n      <td>0</td>\n      <td>...</td>\n      <td>0.00</td>\n      <td>4658.85</td>\n      <td>0.000000</td>\n      <td>7460.857143</td>\n      <td>0.000000</td>\n      <td>1.761142</td>\n      <td>0.000000</td>\n      <td>1.404865</td>\n      <td>0.000000</td>\n      <td>484.3616</td>\n    </tr>\n    <tr>\n      <th>34072</th>\n      <td>925</td>\n      <td>3.676301</td>\n      <td>-0.225066</td>\n      <td>184</td>\n      <td>3</td>\n      <td>371.0</td>\n      <td>8030.714286</td>\n      <td>0</td>\n      <td>0</td>\n      <td>0</td>\n      <td>...</td>\n      <td>0.00</td>\n      <td>4658.85</td>\n      <td>0.000000</td>\n      <td>7460.857143</td>\n      <td>0.000000</td>\n      <td>1.761142</td>\n      <td>0.000000</td>\n      <td>1.404865</td>\n      <td>0.000000</td>\n      <td>484.3616</td>\n    </tr>\n  </tbody>\n</table>\n<p>23462 rows × 51 columns</p>\n</div>"
     },
     "execution_count": 23,
     "metadata": {},
     "output_type": "execute_result"
    }
   ],
   "source": [
    "data"
   ],
   "metadata": {
    "collapsed": false,
    "ExecuteTime": {
     "end_time": "2024-11-11T10:35:44.847869Z",
     "start_time": "2024-11-11T10:35:44.812418Z"
    }
   },
   "id": "2b7255091871ee76",
   "execution_count": 23
  },
  {
   "cell_type": "code",
   "execution_count": 8,
   "id": "a62c8515-9662-4675-9ed1-63ab160da083",
   "metadata": {
    "ExecuteTime": {
     "end_time": "2024-11-11T11:03:51.047833Z",
     "start_time": "2024-11-11T11:03:51.015869Z"
    }
   },
   "outputs": [],
   "source": [
    "np.random.seed(42019)\n",
    "\n",
    "# Split data into estimation and rest set based on unique ParticipantIdentifier\n",
    "unique_ids = data['ParticipantIdentifier'].unique()\n",
    "est_ids = np.random.choice(unique_ids, size=int(len(unique_ids) * 1/3), replace=False)\n",
    "est_set = data[data['ParticipantIdentifier'].isin(est_ids)]\n",
    "rest_set = data[~data['ParticipantIdentifier'].isin(est_ids)]\n",
    "\n",
    "# Columns to exclude\n",
    "columns_to_remove = ['ParticipantIdentifier', 'Value_tran', 'Notification_c']\n",
    "\n",
    "# Define covariates for the model\n",
    "covariates  = [col for col in data.columns if col not in columns_to_remove]\n",
    "\n",
    "# Linear regression model for estimation set\n",
    "X1 = est_set[covariates]\n",
    "y1 = est_set['Value_tran']\n",
    "\n",
    "alphahat = np.array(sm.OLS(y1, X1.astype(float)).fit().params)\n",
    "# alphahat \n",
    "\n",
    "Xp = rest_set[covariates]\n",
    "Y = rest_set['Value_tran'] - np.dot(Xp,alphahat)\n",
    "# X.loc[:, 'intercept'] = 1 \n",
    "\n",
    "centered_treatment = rest_set['Notification_c']\n",
    "Xp = Xp.multiply(centered_treatment, axis=\"index\")\n",
    "\n",
    "X=Xp.to_numpy(dtype='float64')\n",
    "Y=Y.to_numpy(dtype='float64').reshape(-1)\n",
    "\n",
    "names=Xp.columns\n",
    "names\n",
    "\n",
    "df = pd.DataFrame({\n",
    "    'id': rest_set['ParticipantIdentifier']\n",
    "}).join(Xp)\n",
    "\n",
    "df['Y'] = Y"
   ]
  },
  {
   "cell_type": "code",
   "execution_count": 9,
   "id": "5e4240c3-02a2-4faa-a527-7ddf7456e4f7",
   "metadata": {
    "ExecuteTime": {
     "end_time": "2024-11-11T11:03:59.296657Z",
     "start_time": "2024-11-11T11:03:59.070822Z"
    }
   },
   "outputs": [],
   "source": []
  },
  {
   "cell_type": "code",
   "outputs": [
    {
     "name": "stdout",
     "output_type": "stream",
     "text": [
      "(15542,)\n",
      "(15542, 47)\n"
     ]
    }
   ],
   "source": [
    "print(Y.shape)\n",
    "print(X.shape)\n",
    "# Y.tolist()\n",
    "# X['Y'] = y\n",
    "# X['id'] = rest_set['ParticipantIdentifier']"
   ],
   "metadata": {
    "collapsed": false,
    "ExecuteTime": {
     "end_time": "2024-11-11T11:04:02.994007Z",
     "start_time": "2024-11-11T11:04:02.990728Z"
    }
   },
   "id": "242e0b1ca851bf78",
   "execution_count": 10
  },
  {
   "cell_type": "code",
   "execution_count": 101,
   "id": "43a62f82-b8b1-4e36-8174-21de492811fe",
   "metadata": {
    "ExecuteTime": {
     "end_time": "2024-11-11T09:01:41.100910Z",
     "start_time": "2024-11-11T09:01:41.097303Z"
    }
   },
   "outputs": [
    {
     "name": "stdout",
     "output_type": "stream",
     "text": [
      "(15542,)\n",
      "(15542, 23)\n"
     ]
    }
   ],
   "source": [
    "from sklearn.preprocessing import StandardScaler\n",
    "\n",
    "scaler = StandardScaler()\n",
    "# X = pd.DataFrame(scaler.fit_transform(X), columns=X.columns, index=X.index)\n",
    "np.linalg.pinv(np.dot(X.T, X))\n",
    "np.linalg.inv(np.dot(X.T, X))"
   ]
  },
  {
   "cell_type": "code",
   "outputs": [
    {
     "data": {
      "text/plain": "Index(['Phases', 'Value_30min_before', 'Baseline_steps', 'IsWeekend',\n       'IsIndoor', 'IsLossFramed', 'IsSnow', 'IsActivity',\n       'Value_30min_before_tran', 'AgeEnrollment_years', 'ExerciseTimeAgg_min',\n       'WalkDistanceAgg_m', 'StepsAgg_priorweek', 'Value_tran_sd_week',\n       'Value_tran_sd_priorweek', 'Distance_m_0', 'NotificationType_evening',\n       'NotificationType_lunch', 'NotificationType_morning', 'Gender_M',\n       'Race_Caucasian', 'Race_Other', 'Race_Unknown',\n       'Phase2_Value_30min_before', 'Phase3_Value_30min_before',\n       'Phase2_Baseline_steps', 'Phase3_Baseline_steps', 'Phase2_IsWeekend',\n       'Phase3_IsWeekend', 'Phase2_IsActivity', 'Phase3_IsActivity',\n       'Phase2_Value_30min_before_tran', 'Phase3_Value_30min_before_tran',\n       'Phase2_AgeEnrollment_years', 'Phase3_AgeEnrollment_years',\n       'Phase2_ExerciseTimeAgg_min', 'Phase3_ExerciseTimeAgg_min',\n       'Phase2_WalkDistanceAgg_m', 'Phase3_WalkDistanceAgg_m',\n       'Phase2_StepsAgg_priorweek', 'Phase3_StepsAgg_priorweek',\n       'Phase2_Value_tran_sd_week', 'Phase3_Value_tran_sd_week',\n       'Phase2_Value_tran_sd_priorweek', 'Phase3_Value_tran_sd_priorweek',\n       'Phase2_Distance_m_0', 'Phase3_Distance_m_0'],\n      dtype='object')"
     },
     "execution_count": 11,
     "metadata": {},
     "output_type": "execute_result"
    }
   ],
   "source": [],
   "metadata": {
    "collapsed": false,
    "ExecuteTime": {
     "end_time": "2024-11-11T11:04:22.877826Z",
     "start_time": "2024-11-11T11:04:22.846291Z"
    }
   },
   "id": "e1ee061cf9c2c1",
   "execution_count": 11
  },
  {
   "cell_type": "code",
   "outputs": [],
   "source": [
    "# Check for collinearity by calculating the variance inflation factor (VIF) for each covariate in X\n",
    "from statsmodels.stats.outliers_influence import variance_inflation_factor\n",
    "\n",
    "# Calculate VIF for each feature in the X matrix\n",
    "vif_data = pd.DataFrame()\n",
    "vif_data[\"feature\"] = X.columns\n",
    "vif_data[\"VIF\"] = [variance_inflation_factor(X.values, i) for i in range(len(X.columns))]\n",
    "\n",
    "# Display VIF values to examine multicollinearity among features\n",
    "vif_data.sort_values(by=\"VIF\", ascending=False)"
   ],
   "metadata": {
    "collapsed": false
   },
   "id": "efdf43085f0b39d8",
   "execution_count": null
  },
  {
   "cell_type": "code",
   "outputs": [],
   "source": [],
   "metadata": {
    "collapsed": false,
    "ExecuteTime": {
     "end_time": "2024-11-11T11:04:28.226669Z",
     "start_time": "2024-11-11T11:04:28.208531Z"
    }
   },
   "id": "17eb7c751ec05404",
   "execution_count": 12
  },
  {
   "cell_type": "code",
   "outputs": [
    {
     "data": {
      "text/plain": "        id  TimeEnrolled_days    Phases  Value_30min_before  Baseline_steps  \\\n8        3         -11.253301 -0.450132          -50.189723     -908.720141   \n9        3         -11.253301 -0.450132           -1.800528     -908.720141   \n10       3         -11.253301 -0.450132          -98.578918     -908.720141   \n11       3         -11.253301 -0.450132          -26.107659     -908.720141   \n12       3          39.521633  1.549868          130.963842     3128.851287   \n...    ...                ...       ...                 ...             ...   \n32745  897         -40.962016 -0.675198          -36.010564    -1888.850517   \n32746  897         -40.962016 -0.675198          -60.092628    -1888.850517   \n32748  897         -41.187082 -0.675198          -13.954093    -1888.850517   \n32749  897         141.812918  2.324802          430.088358     6503.578055   \n32750  897         -41.187082 -0.675198         -101.729842    -1888.850517   \n\n       IsWeekend  IsIndoor  IsLossFramed  IsSnow  IsActivity  ...  \\\n8      -0.000000 -0.000000          -0.0    -0.0   -0.000000  ...   \n9      -0.000000 -0.000000          -0.0    -0.0   -0.000000  ...   \n10     -0.000000 -0.000000          -0.0    -0.0   -0.000000  ...   \n11     -0.000000 -0.000000          -0.0    -0.0   -0.000000  ...   \n12      0.774934  0.774934           0.0     0.0    0.774934  ...   \n...          ...       ...           ...     ...         ...  ...   \n32745  -0.000000 -0.000000          -0.0    -0.0   -0.000000  ...   \n32746  -0.000000 -0.000000          -0.0    -0.0   -0.000000  ...   \n32748  -0.000000 -0.000000          -0.0    -0.0   -0.000000  ...   \n32749   0.774934  0.774934           0.0     0.0    0.000000  ...   \n32750  -0.000000 -0.000000          -0.0    -0.0   -0.000000  ...   \n\n       Value_tran_sd_priorweek  Distance_m_0  NotificationType_evening  \\\n8                    -0.171263   -100.126135                 -0.000000   \n9                    -0.171263   -100.126135                 -0.000000   \n10                   -0.171263   -100.126135                 -0.000000   \n11                   -0.171263   -100.126135                 -0.225066   \n12                    0.589683    344.748368                  0.000000   \n...                        ...           ...                       ...   \n32745                -0.182722   -123.394884                 -0.000000   \n32746                -0.182722   -123.394884                 -0.000000   \n32748                -0.236334   -123.394884                 -0.000000   \n32749                 0.813732    424.865946                  0.000000   \n32750                -0.236334   -123.394884                 -0.000000   \n\n       NotificationType_lunch  NotificationType_morning  Gender_M  \\\n8                   -0.000000                 -0.225066 -0.000000   \n9                   -0.225066                 -0.000000 -0.000000   \n10                  -0.000000                 -0.000000 -0.000000   \n11                  -0.000000                 -0.000000 -0.000000   \n12                   0.774934                  0.000000  0.000000   \n...                       ...                       ...       ...   \n32745               -0.225066                 -0.000000 -0.225066   \n32746               -0.000000                 -0.000000 -0.225066   \n32748               -0.000000                 -0.225066 -0.225066   \n32749                0.774934                  0.000000  0.774934   \n32750               -0.000000                 -0.000000 -0.225066   \n\n       Race_Caucasian  Race_Other  Race_Unknown         Y  \n8           -0.225066        -0.0          -0.0  0.266867  \n9           -0.225066        -0.0          -0.0  1.640845  \n10          -0.225066        -0.0          -0.0  0.784898  \n11          -0.225066        -0.0          -0.0  0.776105  \n12           0.774934         0.0           0.0  0.362882  \n...               ...         ...           ...       ...  \n32745       -0.225066        -0.0          -0.0 -0.644065  \n32746       -0.225066        -0.0          -0.0 -2.333014  \n32748       -0.225066        -0.0          -0.0  0.799016  \n32749        0.774934         0.0           0.0  1.019663  \n32750       -0.225066        -0.0          -0.0  0.765363  \n\n[15542 rows x 25 columns]",
      "text/html": "<div>\n<style scoped>\n    .dataframe tbody tr th:only-of-type {\n        vertical-align: middle;\n    }\n\n    .dataframe tbody tr th {\n        vertical-align: top;\n    }\n\n    .dataframe thead th {\n        text-align: right;\n    }\n</style>\n<table border=\"1\" class=\"dataframe\">\n  <thead>\n    <tr style=\"text-align: right;\">\n      <th></th>\n      <th>id</th>\n      <th>TimeEnrolled_days</th>\n      <th>Phases</th>\n      <th>Value_30min_before</th>\n      <th>Baseline_steps</th>\n      <th>IsWeekend</th>\n      <th>IsIndoor</th>\n      <th>IsLossFramed</th>\n      <th>IsSnow</th>\n      <th>IsActivity</th>\n      <th>...</th>\n      <th>Value_tran_sd_priorweek</th>\n      <th>Distance_m_0</th>\n      <th>NotificationType_evening</th>\n      <th>NotificationType_lunch</th>\n      <th>NotificationType_morning</th>\n      <th>Gender_M</th>\n      <th>Race_Caucasian</th>\n      <th>Race_Other</th>\n      <th>Race_Unknown</th>\n      <th>Y</th>\n    </tr>\n  </thead>\n  <tbody>\n    <tr>\n      <th>8</th>\n      <td>3</td>\n      <td>-11.253301</td>\n      <td>-0.450132</td>\n      <td>-50.189723</td>\n      <td>-908.720141</td>\n      <td>-0.000000</td>\n      <td>-0.000000</td>\n      <td>-0.0</td>\n      <td>-0.0</td>\n      <td>-0.000000</td>\n      <td>...</td>\n      <td>-0.171263</td>\n      <td>-100.126135</td>\n      <td>-0.000000</td>\n      <td>-0.000000</td>\n      <td>-0.225066</td>\n      <td>-0.000000</td>\n      <td>-0.225066</td>\n      <td>-0.0</td>\n      <td>-0.0</td>\n      <td>0.266867</td>\n    </tr>\n    <tr>\n      <th>9</th>\n      <td>3</td>\n      <td>-11.253301</td>\n      <td>-0.450132</td>\n      <td>-1.800528</td>\n      <td>-908.720141</td>\n      <td>-0.000000</td>\n      <td>-0.000000</td>\n      <td>-0.0</td>\n      <td>-0.0</td>\n      <td>-0.000000</td>\n      <td>...</td>\n      <td>-0.171263</td>\n      <td>-100.126135</td>\n      <td>-0.000000</td>\n      <td>-0.225066</td>\n      <td>-0.000000</td>\n      <td>-0.000000</td>\n      <td>-0.225066</td>\n      <td>-0.0</td>\n      <td>-0.0</td>\n      <td>1.640845</td>\n    </tr>\n    <tr>\n      <th>10</th>\n      <td>3</td>\n      <td>-11.253301</td>\n      <td>-0.450132</td>\n      <td>-98.578918</td>\n      <td>-908.720141</td>\n      <td>-0.000000</td>\n      <td>-0.000000</td>\n      <td>-0.0</td>\n      <td>-0.0</td>\n      <td>-0.000000</td>\n      <td>...</td>\n      <td>-0.171263</td>\n      <td>-100.126135</td>\n      <td>-0.000000</td>\n      <td>-0.000000</td>\n      <td>-0.000000</td>\n      <td>-0.000000</td>\n      <td>-0.225066</td>\n      <td>-0.0</td>\n      <td>-0.0</td>\n      <td>0.784898</td>\n    </tr>\n    <tr>\n      <th>11</th>\n      <td>3</td>\n      <td>-11.253301</td>\n      <td>-0.450132</td>\n      <td>-26.107659</td>\n      <td>-908.720141</td>\n      <td>-0.000000</td>\n      <td>-0.000000</td>\n      <td>-0.0</td>\n      <td>-0.0</td>\n      <td>-0.000000</td>\n      <td>...</td>\n      <td>-0.171263</td>\n      <td>-100.126135</td>\n      <td>-0.225066</td>\n      <td>-0.000000</td>\n      <td>-0.000000</td>\n      <td>-0.000000</td>\n      <td>-0.225066</td>\n      <td>-0.0</td>\n      <td>-0.0</td>\n      <td>0.776105</td>\n    </tr>\n    <tr>\n      <th>12</th>\n      <td>3</td>\n      <td>39.521633</td>\n      <td>1.549868</td>\n      <td>130.963842</td>\n      <td>3128.851287</td>\n      <td>0.774934</td>\n      <td>0.774934</td>\n      <td>0.0</td>\n      <td>0.0</td>\n      <td>0.774934</td>\n      <td>...</td>\n      <td>0.589683</td>\n      <td>344.748368</td>\n      <td>0.000000</td>\n      <td>0.774934</td>\n      <td>0.000000</td>\n      <td>0.000000</td>\n      <td>0.774934</td>\n      <td>0.0</td>\n      <td>0.0</td>\n      <td>0.362882</td>\n    </tr>\n    <tr>\n      <th>...</th>\n      <td>...</td>\n      <td>...</td>\n      <td>...</td>\n      <td>...</td>\n      <td>...</td>\n      <td>...</td>\n      <td>...</td>\n      <td>...</td>\n      <td>...</td>\n      <td>...</td>\n      <td>...</td>\n      <td>...</td>\n      <td>...</td>\n      <td>...</td>\n      <td>...</td>\n      <td>...</td>\n      <td>...</td>\n      <td>...</td>\n      <td>...</td>\n      <td>...</td>\n      <td>...</td>\n    </tr>\n    <tr>\n      <th>32745</th>\n      <td>897</td>\n      <td>-40.962016</td>\n      <td>-0.675198</td>\n      <td>-36.010564</td>\n      <td>-1888.850517</td>\n      <td>-0.000000</td>\n      <td>-0.000000</td>\n      <td>-0.0</td>\n      <td>-0.0</td>\n      <td>-0.000000</td>\n      <td>...</td>\n      <td>-0.182722</td>\n      <td>-123.394884</td>\n      <td>-0.000000</td>\n      <td>-0.225066</td>\n      <td>-0.000000</td>\n      <td>-0.225066</td>\n      <td>-0.225066</td>\n      <td>-0.0</td>\n      <td>-0.0</td>\n      <td>-0.644065</td>\n    </tr>\n    <tr>\n      <th>32746</th>\n      <td>897</td>\n      <td>-40.962016</td>\n      <td>-0.675198</td>\n      <td>-60.092628</td>\n      <td>-1888.850517</td>\n      <td>-0.000000</td>\n      <td>-0.000000</td>\n      <td>-0.0</td>\n      <td>-0.0</td>\n      <td>-0.000000</td>\n      <td>...</td>\n      <td>-0.182722</td>\n      <td>-123.394884</td>\n      <td>-0.000000</td>\n      <td>-0.000000</td>\n      <td>-0.000000</td>\n      <td>-0.225066</td>\n      <td>-0.225066</td>\n      <td>-0.0</td>\n      <td>-0.0</td>\n      <td>-2.333014</td>\n    </tr>\n    <tr>\n      <th>32748</th>\n      <td>897</td>\n      <td>-41.187082</td>\n      <td>-0.675198</td>\n      <td>-13.954093</td>\n      <td>-1888.850517</td>\n      <td>-0.000000</td>\n      <td>-0.000000</td>\n      <td>-0.0</td>\n      <td>-0.0</td>\n      <td>-0.000000</td>\n      <td>...</td>\n      <td>-0.236334</td>\n      <td>-123.394884</td>\n      <td>-0.000000</td>\n      <td>-0.000000</td>\n      <td>-0.225066</td>\n      <td>-0.225066</td>\n      <td>-0.225066</td>\n      <td>-0.0</td>\n      <td>-0.0</td>\n      <td>0.799016</td>\n    </tr>\n    <tr>\n      <th>32749</th>\n      <td>897</td>\n      <td>141.812918</td>\n      <td>2.324802</td>\n      <td>430.088358</td>\n      <td>6503.578055</td>\n      <td>0.774934</td>\n      <td>0.774934</td>\n      <td>0.0</td>\n      <td>0.0</td>\n      <td>0.000000</td>\n      <td>...</td>\n      <td>0.813732</td>\n      <td>424.865946</td>\n      <td>0.000000</td>\n      <td>0.774934</td>\n      <td>0.000000</td>\n      <td>0.774934</td>\n      <td>0.774934</td>\n      <td>0.0</td>\n      <td>0.0</td>\n      <td>1.019663</td>\n    </tr>\n    <tr>\n      <th>32750</th>\n      <td>897</td>\n      <td>-41.187082</td>\n      <td>-0.675198</td>\n      <td>-101.729842</td>\n      <td>-1888.850517</td>\n      <td>-0.000000</td>\n      <td>-0.000000</td>\n      <td>-0.0</td>\n      <td>-0.0</td>\n      <td>-0.000000</td>\n      <td>...</td>\n      <td>-0.236334</td>\n      <td>-123.394884</td>\n      <td>-0.000000</td>\n      <td>-0.000000</td>\n      <td>-0.000000</td>\n      <td>-0.225066</td>\n      <td>-0.225066</td>\n      <td>-0.0</td>\n      <td>-0.0</td>\n      <td>0.765363</td>\n    </tr>\n  </tbody>\n</table>\n<p>15542 rows × 25 columns</p>\n</div>"
     },
     "execution_count": 13,
     "metadata": {},
     "output_type": "execute_result"
    }
   ],
   "source": [
    "df"
   ],
   "metadata": {
    "collapsed": false,
    "ExecuteTime": {
     "end_time": "2024-11-11T10:27:27.489059Z",
     "start_time": "2024-11-11T10:27:27.473119Z"
    }
   },
   "id": "694e3aad1269ffac",
   "execution_count": 13
  },
  {
   "cell_type": "code",
   "execution_count": 14,
   "id": "db884188-7d13-4f2e-8540-896d0425bdfb",
   "metadata": {
    "ExecuteTime": {
     "end_time": "2024-11-11T11:04:58.781855Z",
     "start_time": "2024-11-11T11:04:54.469104Z"
    }
   },
   "outputs": [
    {
     "name": "stdout",
     "output_type": "stream",
     "text": [
      "size of selected set  8\n",
      "potential moderators  Index(['Phase2_Value_30min_before', 'Phase3_Value_30min_before',\n",
      "       'Phase2_Baseline_steps', 'Phase3_Baseline_steps',\n",
      "       'Phase2_WalkDistanceAgg_m', 'Phase3_WalkDistanceAgg_m',\n",
      "       'Phase2_StepsAgg_priorweek', 'Phase3_StepsAgg_priorweek'],\n",
      "      dtype='object')\n"
     ]
    }
   ],
   "source": [
    "n, p = X.shape\n",
    "# N = len(df['id'].unique())\n",
    "sigma_ = np.std(Y)\n",
    "\n",
    "if n > (2 * p):\n",
    "    dispersion = np.linalg.norm(Y - X.dot(np.linalg.pinv(X).dot(Y))) ** 2 / (n - p)\n",
    "else:\n",
    "    dispersion = sigma_ ** 2\n",
    "\n",
    "eps = np.random.standard_normal((n, 2000)) * Y.std()\n",
    "W = 85 * np.median(np.abs(X.T.dot(eps)).max(1))\n",
    "\n",
    "const = lasso.gaussian\n",
    "randomizer_scale = 1.\n",
    "conv = const(X,\n",
    "             Y,\n",
    "             W,\n",
    "             ridge_term=0.,\n",
    "             randomizer_scale=randomizer_scale * np.sqrt(dispersion))\n",
    "\n",
    "signs = conv.fit()\n",
    "nonzero = signs != 0\n",
    "print(\"size of selected set \", nonzero.sum())\n",
    "print(\"potential moderators \", names[nonzero])"
   ]
  },
  {
   "cell_type": "code",
   "outputs": [
    {
     "ename": "KeyboardInterrupt",
     "evalue": "",
     "output_type": "error",
     "traceback": [
      "\u001B[0;31m---------------------------------------------------------------------------\u001B[0m",
      "\u001B[0;31mKeyboardInterrupt\u001B[0m                         Traceback (most recent call last)",
      "Cell \u001B[0;32mIn[15], line 11\u001B[0m\n\u001B[1;32m      3\u001B[0m conv\u001B[38;5;241m.\u001B[39msetup_inference(dispersion\u001B[38;5;241m=\u001B[39mdispersion)\n\u001B[1;32m      5\u001B[0m target_spec \u001B[38;5;241m=\u001B[39m selected_targets_WCLS(conv\u001B[38;5;241m.\u001B[39mloglike,\n\u001B[1;32m      6\u001B[0m                                     df,\n\u001B[1;32m      7\u001B[0m                                    conv\u001B[38;5;241m.\u001B[39mobserved_soln,\n\u001B[1;32m      8\u001B[0m                                    K \u001B[38;5;241m=\u001B[39m conv\u001B[38;5;241m.\u001B[39mK,\n\u001B[1;32m      9\u001B[0m                                    dispersion\u001B[38;5;241m=\u001B[39m dispersion)\n\u001B[0;32m---> 11\u001B[0m result_exact \u001B[38;5;241m=\u001B[39m \u001B[43mconv\u001B[49m\u001B[38;5;241;43m.\u001B[39;49m\u001B[43minference\u001B[49m\u001B[43m(\u001B[49m\u001B[43mtarget_spec\u001B[49m\u001B[43m)\u001B[49m\n\u001B[1;32m     13\u001B[0m intervals \u001B[38;5;241m=\u001B[39m np\u001B[38;5;241m.\u001B[39masarray(result_exact[[\u001B[38;5;124m'\u001B[39m\u001B[38;5;124mlower_confidence\u001B[39m\u001B[38;5;124m'\u001B[39m, \u001B[38;5;124m'\u001B[39m\u001B[38;5;124mupper_confidence\u001B[39m\u001B[38;5;124m'\u001B[39m]])\n\u001B[1;32m     14\u001B[0m lci \u001B[38;5;241m=\u001B[39m intervals[:, \u001B[38;5;241m0\u001B[39m]\n",
      "File \u001B[0;32m~/Documents/git/SI-MRT/selectinf/query.py:185\u001B[0m, in \u001B[0;36mgaussian_query.inference\u001B[0;34m(self, target_spec, level)\u001B[0m\n\u001B[1;32m    180\u001B[0m query_spec \u001B[38;5;241m=\u001B[39m \u001B[38;5;28mself\u001B[39m\u001B[38;5;241m.\u001B[39mspecification\n\u001B[1;32m    182\u001B[0m G \u001B[38;5;241m=\u001B[39m exact_grid_inference(query_spec,\n\u001B[1;32m    183\u001B[0m                          target_spec)\n\u001B[0;32m--> 185\u001B[0m \u001B[38;5;28;01mreturn\u001B[39;00m \u001B[43mG\u001B[49m\u001B[38;5;241;43m.\u001B[39;49m\u001B[43msummary\u001B[49m\u001B[43m(\u001B[49m\u001B[43malternatives\u001B[49m\u001B[38;5;241;43m=\u001B[39;49m\u001B[43mtarget_spec\u001B[49m\u001B[38;5;241;43m.\u001B[39;49m\u001B[43malternatives\u001B[49m\u001B[43m,\u001B[49m\n\u001B[1;32m    186\u001B[0m \u001B[43m                 \u001B[49m\u001B[43mlevel\u001B[49m\u001B[38;5;241;43m=\u001B[39;49m\u001B[43mlevel\u001B[49m\u001B[43m)\u001B[49m\n",
      "File \u001B[0;32m~/Documents/git/SI-MRT/selectinf/grid_inference.py:90\u001B[0m, in \u001B[0;36mgrid_inference.summary\u001B[0;34m(self, alternatives, parameter, level)\u001B[0m\n\u001B[1;32m     86\u001B[0m     pivots \u001B[38;5;241m=\u001B[39m \u001B[38;5;28;01mNone\u001B[39;00m\n\u001B[1;32m     88\u001B[0m pvalues \u001B[38;5;241m=\u001B[39m \u001B[38;5;28mself\u001B[39m\u001B[38;5;241m.\u001B[39m_pivots(np\u001B[38;5;241m.\u001B[39mzeros_like(TS\u001B[38;5;241m.\u001B[39mobserved_target),\n\u001B[1;32m     89\u001B[0m                        alternatives\u001B[38;5;241m=\u001B[39malternatives)\n\u001B[0;32m---> 90\u001B[0m lower, upper \u001B[38;5;241m=\u001B[39m \u001B[38;5;28;43mself\u001B[39;49m\u001B[38;5;241;43m.\u001B[39;49m\u001B[43m_intervals\u001B[49m\u001B[43m(\u001B[49m\u001B[43mlevel\u001B[49m\u001B[38;5;241;43m=\u001B[39;49m\u001B[43mlevel\u001B[49m\u001B[43m)\u001B[49m\n\u001B[1;32m     92\u001B[0m result \u001B[38;5;241m=\u001B[39m pd\u001B[38;5;241m.\u001B[39mDataFrame({\u001B[38;5;124m'\u001B[39m\u001B[38;5;124mtarget\u001B[39m\u001B[38;5;124m'\u001B[39m: TS\u001B[38;5;241m.\u001B[39mobserved_target,\n\u001B[1;32m     93\u001B[0m                        \u001B[38;5;124m'\u001B[39m\u001B[38;5;124mpvalue\u001B[39m\u001B[38;5;124m'\u001B[39m: pvalues,\n\u001B[1;32m     94\u001B[0m                        \u001B[38;5;124m'\u001B[39m\u001B[38;5;124malternative\u001B[39m\u001B[38;5;124m'\u001B[39m: alternatives,\n\u001B[1;32m     95\u001B[0m                        \u001B[38;5;124m'\u001B[39m\u001B[38;5;124mlower_confidence\u001B[39m\u001B[38;5;124m'\u001B[39m: lower,\n\u001B[1;32m     96\u001B[0m                        \u001B[38;5;124m'\u001B[39m\u001B[38;5;124mupper_confidence\u001B[39m\u001B[38;5;124m'\u001B[39m: upper})\n\u001B[1;32m     98\u001B[0m \u001B[38;5;28;01mif\u001B[39;00m \u001B[38;5;129;01mnot\u001B[39;00m np\u001B[38;5;241m.\u001B[39mall(parameter \u001B[38;5;241m==\u001B[39m \u001B[38;5;241m0\u001B[39m):\n",
      "File \u001B[0;32m~/Documents/git/SI-MRT/selectinf/grid_inference.py:158\u001B[0m, in \u001B[0;36mgrid_inference._intervals\u001B[0;34m(self, level)\u001B[0m\n\u001B[1;32m    155\u001B[0m observed_target \u001B[38;5;241m=\u001B[39m TS\u001B[38;5;241m.\u001B[39mobserved_target[m]\n\u001B[1;32m    156\u001B[0m unbiased_est \u001B[38;5;241m=\u001B[39m (observed_target \u001B[38;5;241m-\u001B[39m r[m][\u001B[38;5;241m0\u001B[39m]) \u001B[38;5;241m*\u001B[39m (\u001B[38;5;241m1.\u001B[39m \u001B[38;5;241m/\u001B[39m (S[m][\u001B[38;5;241m0\u001B[39m, \u001B[38;5;241m0\u001B[39m]))\n\u001B[0;32m--> 158\u001B[0m _l, _u \u001B[38;5;241m=\u001B[39m \u001B[43mfamily\u001B[49m\u001B[38;5;241;43m.\u001B[39;49m\u001B[43mequal_tailed_interval\u001B[49m\u001B[43m(\u001B[49m\u001B[43mobserved_target\u001B[49m\u001B[43m,\u001B[49m\n\u001B[1;32m    159\u001B[0m \u001B[43m                                      \u001B[49m\u001B[43malpha\u001B[49m\u001B[38;5;241;43m=\u001B[39;49m\u001B[38;5;241;43m1\u001B[39;49m\u001B[43m \u001B[49m\u001B[38;5;241;43m-\u001B[39;49m\u001B[43m \u001B[49m\u001B[43mlevel\u001B[49m\u001B[43m)\u001B[49m\n\u001B[1;32m    160\u001B[0m l \u001B[38;5;241m=\u001B[39m _l \u001B[38;5;241m*\u001B[39m (\u001B[38;5;241m1.\u001B[39m \u001B[38;5;241m/\u001B[39m (S[m][\u001B[38;5;241m0\u001B[39m, \u001B[38;5;241m0\u001B[39m]))\n\u001B[1;32m    161\u001B[0m u \u001B[38;5;241m=\u001B[39m _u \u001B[38;5;241m*\u001B[39m (\u001B[38;5;241m1.\u001B[39m \u001B[38;5;241m/\u001B[39m (S[m][\u001B[38;5;241m0\u001B[39m, \u001B[38;5;241m0\u001B[39m]))\n",
      "File \u001B[0;32m~/Documents/git/SI-MRT/selectinf/Utils/discrete_family.py:450\u001B[0m, in \u001B[0;36mdiscrete_family.equal_tailed_interval\u001B[0;34m(self, observed, alpha, randomize, auxVar, tol)\u001B[0m\n\u001B[1;32m    448\u001B[0m ub \u001B[38;5;241m=\u001B[39m mu \u001B[38;5;241m+\u001B[39m \u001B[38;5;241m20\u001B[39m \u001B[38;5;241m*\u001B[39m sigma\n\u001B[1;32m    449\u001B[0m F \u001B[38;5;241m=\u001B[39m \u001B[38;5;28;01mlambda\u001B[39;00m th: \u001B[38;5;28mself\u001B[39m\u001B[38;5;241m.\u001B[39mcdf(th, observed)\n\u001B[0;32m--> 450\u001B[0m L \u001B[38;5;241m=\u001B[39m \u001B[43mfind_root\u001B[49m\u001B[43m(\u001B[49m\u001B[43mF\u001B[49m\u001B[43m,\u001B[49m\u001B[43m \u001B[49m\u001B[38;5;241;43m1.0\u001B[39;49m\u001B[43m \u001B[49m\u001B[38;5;241;43m-\u001B[39;49m\u001B[43m \u001B[49m\u001B[38;5;241;43m0.5\u001B[39;49m\u001B[43m \u001B[49m\u001B[38;5;241;43m*\u001B[39;49m\u001B[43m \u001B[49m\u001B[43malpha\u001B[49m\u001B[43m,\u001B[49m\u001B[43m \u001B[49m\u001B[43mlb\u001B[49m\u001B[43m,\u001B[49m\u001B[43m \u001B[49m\u001B[43mub\u001B[49m\u001B[43m)\u001B[49m\n\u001B[1;32m    451\u001B[0m U \u001B[38;5;241m=\u001B[39m find_root(F, \u001B[38;5;241m0.5\u001B[39m \u001B[38;5;241m*\u001B[39m alpha, lb, ub)\n\u001B[1;32m    452\u001B[0m \u001B[38;5;28;01mreturn\u001B[39;00m L, U\n",
      "File \u001B[0;32m~/Documents/git/SI-MRT/selectinf/Utils/discrete_family.py:28\u001B[0m, in \u001B[0;36mfind_root\u001B[0;34m(f, y, lb, ub, tol)\u001B[0m\n\u001B[1;32m     26\u001B[0m \u001B[38;5;28;01melif\u001B[39;00m fa \u001B[38;5;241m<\u001B[39m y \u001B[38;5;129;01mand\u001B[39;00m fb \u001B[38;5;241m<\u001B[39m y:\n\u001B[1;32m     27\u001B[0m     \u001B[38;5;28;01mwhile\u001B[39;00m fa \u001B[38;5;241m<\u001B[39m y:\n\u001B[0;32m---> 28\u001B[0m         a, fa \u001B[38;5;241m=\u001B[39m a \u001B[38;5;241m-\u001B[39m (b \u001B[38;5;241m-\u001B[39m a), \u001B[43mf\u001B[49m\u001B[43m(\u001B[49m\u001B[43ma\u001B[49m\u001B[43m \u001B[49m\u001B[38;5;241;43m-\u001B[39;49m\u001B[43m \u001B[49m\u001B[43m(\u001B[49m\u001B[43mb\u001B[49m\u001B[43m \u001B[49m\u001B[38;5;241;43m-\u001B[39;49m\u001B[43m \u001B[49m\u001B[43ma\u001B[49m\u001B[43m)\u001B[49m\u001B[43m)\u001B[49m\n\u001B[1;32m     30\u001B[0m \u001B[38;5;66;03m# determine the necessary number of iterations\u001B[39;00m\n\u001B[1;32m     31\u001B[0m \u001B[38;5;28;01mtry\u001B[39;00m:\n",
      "File \u001B[0;32m~/Documents/git/SI-MRT/selectinf/Utils/discrete_family.py:449\u001B[0m, in \u001B[0;36mdiscrete_family.equal_tailed_interval.<locals>.<lambda>\u001B[0;34m(th)\u001B[0m\n\u001B[1;32m    447\u001B[0m lb \u001B[38;5;241m=\u001B[39m mu \u001B[38;5;241m-\u001B[39m \u001B[38;5;241m20\u001B[39m \u001B[38;5;241m*\u001B[39m sigma\n\u001B[1;32m    448\u001B[0m ub \u001B[38;5;241m=\u001B[39m mu \u001B[38;5;241m+\u001B[39m \u001B[38;5;241m20\u001B[39m \u001B[38;5;241m*\u001B[39m sigma\n\u001B[0;32m--> 449\u001B[0m F \u001B[38;5;241m=\u001B[39m \u001B[38;5;28;01mlambda\u001B[39;00m th: \u001B[38;5;28;43mself\u001B[39;49m\u001B[38;5;241;43m.\u001B[39;49m\u001B[43mcdf\u001B[49m\u001B[43m(\u001B[49m\u001B[43mth\u001B[49m\u001B[43m,\u001B[49m\u001B[43m \u001B[49m\u001B[43mobserved\u001B[49m\u001B[43m)\u001B[49m\n\u001B[1;32m    450\u001B[0m L \u001B[38;5;241m=\u001B[39m find_root(F, \u001B[38;5;241m1.0\u001B[39m \u001B[38;5;241m-\u001B[39m \u001B[38;5;241m0.5\u001B[39m \u001B[38;5;241m*\u001B[39m alpha, lb, ub)\n\u001B[1;32m    451\u001B[0m U \u001B[38;5;241m=\u001B[39m find_root(F, \u001B[38;5;241m0.5\u001B[39m \u001B[38;5;241m*\u001B[39m alpha, lb, ub)\n",
      "\u001B[0;31mKeyboardInterrupt\u001B[0m: "
     ]
    }
   ],
   "source": [
    "if nonzero.sum() > 0:\n",
    "    \n",
    "    conv.setup_inference(dispersion=dispersion)\n",
    "\n",
    "    target_spec = selected_targets_WCLS(conv.loglike,\n",
    "                                        df,\n",
    "                                        conv.observed_soln,\n",
    "                                        K = conv.K,\n",
    "                                        dispersion= dispersion)\n",
    "\n",
    "    result_exact = conv.inference(target_spec)\n",
    "\n",
    "    intervals = np.asarray(result_exact[['lower_confidence', 'upper_confidence']])\n",
    "    lci = intervals[:, 0]\n",
    "    uci = intervals[:, 1]\n",
    "    length1 = uci - lci\n",
    "    \n",
    "print(intervals)\n",
    "print(length1)"
   ],
   "metadata": {
    "collapsed": false,
    "ExecuteTime": {
     "end_time": "2024-11-11T11:15:36.903294Z",
     "start_time": "2024-11-11T11:06:50.607387Z"
    }
   },
   "id": "4ddd6fdd57e02adc",
   "execution_count": 15
  },
  {
   "cell_type": "code",
   "outputs": [],
   "source": [],
   "metadata": {
    "collapsed": false
   },
   "id": "ba1c9e2874f849b0"
  },
  {
   "cell_type": "code",
   "outputs": [],
   "source": [],
   "metadata": {
    "collapsed": false
   },
   "id": "e038fc4a75440fad"
  },
  {
   "cell_type": "markdown",
   "source": [
    "## Processed Data "
   ],
   "metadata": {
    "collapsed": false
   },
   "id": "484695bb532f161a"
  },
  {
   "cell_type": "code",
   "execution_count": 81,
   "id": "a9d781a5-cfcc-46ec-9908-eec7457be189",
   "metadata": {
    "ExecuteTime": {
     "end_time": "2024-11-11T08:47:37.825619Z",
     "start_time": "2024-11-11T08:47:37.746940Z"
    }
   },
   "outputs": [],
   "source": [
    "names=pd.read_csv('~/Documents/git/SI-MRT/realdata/names.csv')\n",
    "names=names[:-1]\n",
    "X=pd.read_csv('~/Documents/git/SI-MRT/realdata/Xoutput.csv')\n",
    "Y=np.array(pd.read_csv('~/Documents/git/SI-MRT/realdata/Youtput.csv'))\n",
    "Y=Y.ravel()\n",
    "X=np.array(X.drop(columns=['outcome']))"
   ]
  },
  {
   "cell_type": "code",
   "outputs": [
    {
     "data": {
      "text/plain": "    Estimate  Std. Error    t value       Pr(>|t|)\n0   4.213725    0.189360  22.252491  2.083034e-106\n1   0.000215    0.000044   4.862870   1.179608e-06\n2  -0.143174    0.037029  -3.866576   1.112716e-04\n3   0.041763    0.036331   1.149515   2.503790e-01\n4   0.326207    0.039641   8.229052   2.193534e-16\n5   0.000018    0.000009   2.094013   3.629101e-02\n6  -0.004516    0.068823  -0.065616   9.476851e-01\n7  -0.026323    0.058357  -0.451065   6.519550e-01\n8  -0.192277    0.129017  -1.490326   1.361790e-01\n9  -0.230617    0.343889  -0.670615   5.024858e-01\n10  0.027722    0.060607   0.457401   6.473957e-01\n11  0.152486    0.015046  10.134502   5.466459e-24\n12 -0.004630    0.001544  -2.999209   2.715361e-03\n13 -0.065751    0.037563  -1.750436   8.008243e-02\n14  0.125399    0.056954   2.201777   2.771027e-02\n15  0.623665    0.088153   7.074800   1.626461e-12\n16  0.000349    0.000475   0.735597   4.619980e-01\n17  0.000041    0.000004  10.530730   9.280490e-26\n18  0.000002    0.000007   0.237903   8.119624e-01\n19 -0.259464    0.054942  -4.722531   2.369983e-06\n20  0.079418    0.052738   1.505895   1.321346e-01\n21  0.000880    0.000248   3.543942   3.965000e-04\n22 -0.003126    0.003152  -0.991967   3.212446e-01\n23  0.000493    0.000679   0.726139   4.677755e-01\n24  0.000803    0.000401   2.002662   4.524813e-02",
      "text/html": "<div>\n<style scoped>\n    .dataframe tbody tr th:only-of-type {\n        vertical-align: middle;\n    }\n\n    .dataframe tbody tr th {\n        vertical-align: top;\n    }\n\n    .dataframe thead th {\n        text-align: right;\n    }\n</style>\n<table border=\"1\" class=\"dataframe\">\n  <thead>\n    <tr style=\"text-align: right;\">\n      <th></th>\n      <th>Estimate</th>\n      <th>Std. Error</th>\n      <th>t value</th>\n      <th>Pr(&gt;|t|)</th>\n    </tr>\n  </thead>\n  <tbody>\n    <tr>\n      <th>0</th>\n      <td>4.213725</td>\n      <td>0.189360</td>\n      <td>22.252491</td>\n      <td>2.083034e-106</td>\n    </tr>\n    <tr>\n      <th>1</th>\n      <td>0.000215</td>\n      <td>0.000044</td>\n      <td>4.862870</td>\n      <td>1.179608e-06</td>\n    </tr>\n    <tr>\n      <th>2</th>\n      <td>-0.143174</td>\n      <td>0.037029</td>\n      <td>-3.866576</td>\n      <td>1.112716e-04</td>\n    </tr>\n    <tr>\n      <th>3</th>\n      <td>0.041763</td>\n      <td>0.036331</td>\n      <td>1.149515</td>\n      <td>2.503790e-01</td>\n    </tr>\n    <tr>\n      <th>4</th>\n      <td>0.326207</td>\n      <td>0.039641</td>\n      <td>8.229052</td>\n      <td>2.193534e-16</td>\n    </tr>\n    <tr>\n      <th>5</th>\n      <td>0.000018</td>\n      <td>0.000009</td>\n      <td>2.094013</td>\n      <td>3.629101e-02</td>\n    </tr>\n    <tr>\n      <th>6</th>\n      <td>-0.004516</td>\n      <td>0.068823</td>\n      <td>-0.065616</td>\n      <td>9.476851e-01</td>\n    </tr>\n    <tr>\n      <th>7</th>\n      <td>-0.026323</td>\n      <td>0.058357</td>\n      <td>-0.451065</td>\n      <td>6.519550e-01</td>\n    </tr>\n    <tr>\n      <th>8</th>\n      <td>-0.192277</td>\n      <td>0.129017</td>\n      <td>-1.490326</td>\n      <td>1.361790e-01</td>\n    </tr>\n    <tr>\n      <th>9</th>\n      <td>-0.230617</td>\n      <td>0.343889</td>\n      <td>-0.670615</td>\n      <td>5.024858e-01</td>\n    </tr>\n    <tr>\n      <th>10</th>\n      <td>0.027722</td>\n      <td>0.060607</td>\n      <td>0.457401</td>\n      <td>6.473957e-01</td>\n    </tr>\n    <tr>\n      <th>11</th>\n      <td>0.152486</td>\n      <td>0.015046</td>\n      <td>10.134502</td>\n      <td>5.466459e-24</td>\n    </tr>\n    <tr>\n      <th>12</th>\n      <td>-0.004630</td>\n      <td>0.001544</td>\n      <td>-2.999209</td>\n      <td>2.715361e-03</td>\n    </tr>\n    <tr>\n      <th>13</th>\n      <td>-0.065751</td>\n      <td>0.037563</td>\n      <td>-1.750436</td>\n      <td>8.008243e-02</td>\n    </tr>\n    <tr>\n      <th>14</th>\n      <td>0.125399</td>\n      <td>0.056954</td>\n      <td>2.201777</td>\n      <td>2.771027e-02</td>\n    </tr>\n    <tr>\n      <th>15</th>\n      <td>0.623665</td>\n      <td>0.088153</td>\n      <td>7.074800</td>\n      <td>1.626461e-12</td>\n    </tr>\n    <tr>\n      <th>16</th>\n      <td>0.000349</td>\n      <td>0.000475</td>\n      <td>0.735597</td>\n      <td>4.619980e-01</td>\n    </tr>\n    <tr>\n      <th>17</th>\n      <td>0.000041</td>\n      <td>0.000004</td>\n      <td>10.530730</td>\n      <td>9.280490e-26</td>\n    </tr>\n    <tr>\n      <th>18</th>\n      <td>0.000002</td>\n      <td>0.000007</td>\n      <td>0.237903</td>\n      <td>8.119624e-01</td>\n    </tr>\n    <tr>\n      <th>19</th>\n      <td>-0.259464</td>\n      <td>0.054942</td>\n      <td>-4.722531</td>\n      <td>2.369983e-06</td>\n    </tr>\n    <tr>\n      <th>20</th>\n      <td>0.079418</td>\n      <td>0.052738</td>\n      <td>1.505895</td>\n      <td>1.321346e-01</td>\n    </tr>\n    <tr>\n      <th>21</th>\n      <td>0.000880</td>\n      <td>0.000248</td>\n      <td>3.543942</td>\n      <td>3.965000e-04</td>\n    </tr>\n    <tr>\n      <th>22</th>\n      <td>-0.003126</td>\n      <td>0.003152</td>\n      <td>-0.991967</td>\n      <td>3.212446e-01</td>\n    </tr>\n    <tr>\n      <th>23</th>\n      <td>0.000493</td>\n      <td>0.000679</td>\n      <td>0.726139</td>\n      <td>4.677755e-01</td>\n    </tr>\n    <tr>\n      <th>24</th>\n      <td>0.000803</td>\n      <td>0.000401</td>\n      <td>2.002662</td>\n      <td>4.524813e-02</td>\n    </tr>\n  </tbody>\n</table>\n</div>"
     },
     "execution_count": 71,
     "metadata": {},
     "output_type": "execute_result"
    }
   ],
   "source": [
    "alphahat=pd.read_csv('~/Documents/git/SI-MRT/realdata/alphahat.csv')\n",
    "alphahat"
   ],
   "metadata": {
    "collapsed": false,
    "ExecuteTime": {
     "end_time": "2024-11-04T17:39:10.140717Z",
     "start_time": "2024-11-04T17:39:10.055181Z"
    }
   },
   "id": "cf90898d54bb818a",
   "execution_count": 71
  },
  {
   "cell_type": "code",
   "outputs": [
    {
     "data": {
      "text/plain": "       Value_30min_before  Baseline_steps  IsWeekend  IsIndoor  IsLossFramed  \\\n0              -13.053829    -1424.217790        0.0       0.0           0.0   \n1              -17.105018    -1424.217790        0.0       0.0           0.0   \n2              -42.537478    -1424.217790        0.0       0.0           0.0   \n3              -10.803169    -1424.217790        0.0       0.0           0.0   \n4              -31.284177    -1424.217790        0.0       0.0           0.0   \n...                   ...             ...        ...       ...           ...   \n15636         -165.873658    -1807.440921        0.0       0.0           0.0   \n15637         -119.960190    -1807.440921        0.0       0.0           0.0   \n15638          -17.330084    -1807.440921        0.0       0.0           0.0   \n15639          -43.662808    -1807.440921        0.0       0.0           0.0   \n15640          -83.499494    -1807.440921        0.0       0.0           0.0   \n\n       IsSnow  IsActivity  Value_30min_before_tran  AgeEnrollment_years  \\\n0         0.0         0.0                -0.915800           -16.173289   \n1         0.0         0.0                -0.976177           -16.173289   \n2         0.0         0.0                -1.180334           -16.173289   \n3         0.0         0.0                -0.873608           -16.173289   \n4         0.0         0.0                -1.111391           -16.173289   \n...       ...         ...                      ...                  ...   \n15636     0.0         0.0                -1.486171           -15.858692   \n15637     0.0         0.0                -1.413293           -15.858692   \n15638     0.0         0.0                -0.979100           -15.858692   \n15639     0.0         0.0                -1.186195           -15.858692   \n15640     0.0         0.0                -1.331839           -15.858692   \n\n       ExerciseTimeAgg_min  ...  Distance_m_0       Naf       Nev       Nlu  \\\n0               -13.954093  ...   -116.047013 -0.225066  0.000000  0.000000   \n1               -13.954093  ...   -116.047013  0.000000 -0.225066  0.000000   \n2               -20.255942  ...   -116.047013  0.000000 -0.225066  0.000000   \n3                -0.900264  ...   -116.047013  0.000000  0.000000 -0.225066   \n4                -0.900264  ...   -116.047013 -0.225066  0.000000  0.000000   \n...                    ...  ...           ...       ...       ...       ...   \n15636           -20.030876  ...   -109.013339  0.000000  0.000000 -0.225066   \n15637           -20.030876  ...   -109.013339  0.000000 -0.225066  0.000000   \n15638           -12.828763  ...   -109.013339  0.000000  0.000000  0.000000   \n15639           -12.828763  ...   -109.013339  0.000000  0.000000 -0.225066   \n15640           -12.828763  ...   -109.013339  0.000000 -0.225066  0.000000   \n\n            Nmo     RaceC   GenderM         P2         P3   outcome  \n0      0.000000 -0.225066 -0.225066 -19.355678   0.000000 -1.311566  \n1      0.000000 -0.225066 -0.225066 -19.355678   0.000000 -0.915800  \n2      0.000000 -0.225066 -0.225066 -19.580744   0.000000 -0.907970  \n3      0.000000 -0.225066 -0.225066 -19.805810   0.000000 -1.174316  \n4      0.000000 -0.225066 -0.225066 -19.805810   0.000000 -1.240431  \n...         ...       ...       ...        ...        ...       ...  \n15636  0.000000  0.000000  0.000000   0.000000 -41.187082 -1.264553  \n15637  0.000000  0.000000  0.000000   0.000000 -41.187082 -1.524261  \n15638 -0.225066  0.000000  0.000000   0.000000 -41.412148 -1.590133  \n15639  0.000000  0.000000  0.000000   0.000000 -41.412148 -0.927055  \n15640  0.000000  0.000000  0.000000   0.000000 -41.412148 -0.827410  \n\n[15641 rows x 24 columns]",
      "text/html": "<div>\n<style scoped>\n    .dataframe tbody tr th:only-of-type {\n        vertical-align: middle;\n    }\n\n    .dataframe tbody tr th {\n        vertical-align: top;\n    }\n\n    .dataframe thead th {\n        text-align: right;\n    }\n</style>\n<table border=\"1\" class=\"dataframe\">\n  <thead>\n    <tr style=\"text-align: right;\">\n      <th></th>\n      <th>Value_30min_before</th>\n      <th>Baseline_steps</th>\n      <th>IsWeekend</th>\n      <th>IsIndoor</th>\n      <th>IsLossFramed</th>\n      <th>IsSnow</th>\n      <th>IsActivity</th>\n      <th>Value_30min_before_tran</th>\n      <th>AgeEnrollment_years</th>\n      <th>ExerciseTimeAgg_min</th>\n      <th>...</th>\n      <th>Distance_m_0</th>\n      <th>Naf</th>\n      <th>Nev</th>\n      <th>Nlu</th>\n      <th>Nmo</th>\n      <th>RaceC</th>\n      <th>GenderM</th>\n      <th>P2</th>\n      <th>P3</th>\n      <th>outcome</th>\n    </tr>\n  </thead>\n  <tbody>\n    <tr>\n      <th>0</th>\n      <td>-13.053829</td>\n      <td>-1424.217790</td>\n      <td>0.0</td>\n      <td>0.0</td>\n      <td>0.0</td>\n      <td>0.0</td>\n      <td>0.0</td>\n      <td>-0.915800</td>\n      <td>-16.173289</td>\n      <td>-13.954093</td>\n      <td>...</td>\n      <td>-116.047013</td>\n      <td>-0.225066</td>\n      <td>0.000000</td>\n      <td>0.000000</td>\n      <td>0.000000</td>\n      <td>-0.225066</td>\n      <td>-0.225066</td>\n      <td>-19.355678</td>\n      <td>0.000000</td>\n      <td>-1.311566</td>\n    </tr>\n    <tr>\n      <th>1</th>\n      <td>-17.105018</td>\n      <td>-1424.217790</td>\n      <td>0.0</td>\n      <td>0.0</td>\n      <td>0.0</td>\n      <td>0.0</td>\n      <td>0.0</td>\n      <td>-0.976177</td>\n      <td>-16.173289</td>\n      <td>-13.954093</td>\n      <td>...</td>\n      <td>-116.047013</td>\n      <td>0.000000</td>\n      <td>-0.225066</td>\n      <td>0.000000</td>\n      <td>0.000000</td>\n      <td>-0.225066</td>\n      <td>-0.225066</td>\n      <td>-19.355678</td>\n      <td>0.000000</td>\n      <td>-0.915800</td>\n    </tr>\n    <tr>\n      <th>2</th>\n      <td>-42.537478</td>\n      <td>-1424.217790</td>\n      <td>0.0</td>\n      <td>0.0</td>\n      <td>0.0</td>\n      <td>0.0</td>\n      <td>0.0</td>\n      <td>-1.180334</td>\n      <td>-16.173289</td>\n      <td>-20.255942</td>\n      <td>...</td>\n      <td>-116.047013</td>\n      <td>0.000000</td>\n      <td>-0.225066</td>\n      <td>0.000000</td>\n      <td>0.000000</td>\n      <td>-0.225066</td>\n      <td>-0.225066</td>\n      <td>-19.580744</td>\n      <td>0.000000</td>\n      <td>-0.907970</td>\n    </tr>\n    <tr>\n      <th>3</th>\n      <td>-10.803169</td>\n      <td>-1424.217790</td>\n      <td>0.0</td>\n      <td>0.0</td>\n      <td>0.0</td>\n      <td>0.0</td>\n      <td>0.0</td>\n      <td>-0.873608</td>\n      <td>-16.173289</td>\n      <td>-0.900264</td>\n      <td>...</td>\n      <td>-116.047013</td>\n      <td>0.000000</td>\n      <td>0.000000</td>\n      <td>-0.225066</td>\n      <td>0.000000</td>\n      <td>-0.225066</td>\n      <td>-0.225066</td>\n      <td>-19.805810</td>\n      <td>0.000000</td>\n      <td>-1.174316</td>\n    </tr>\n    <tr>\n      <th>4</th>\n      <td>-31.284177</td>\n      <td>-1424.217790</td>\n      <td>0.0</td>\n      <td>0.0</td>\n      <td>0.0</td>\n      <td>0.0</td>\n      <td>0.0</td>\n      <td>-1.111391</td>\n      <td>-16.173289</td>\n      <td>-0.900264</td>\n      <td>...</td>\n      <td>-116.047013</td>\n      <td>-0.225066</td>\n      <td>0.000000</td>\n      <td>0.000000</td>\n      <td>0.000000</td>\n      <td>-0.225066</td>\n      <td>-0.225066</td>\n      <td>-19.805810</td>\n      <td>0.000000</td>\n      <td>-1.240431</td>\n    </tr>\n    <tr>\n      <th>...</th>\n      <td>...</td>\n      <td>...</td>\n      <td>...</td>\n      <td>...</td>\n      <td>...</td>\n      <td>...</td>\n      <td>...</td>\n      <td>...</td>\n      <td>...</td>\n      <td>...</td>\n      <td>...</td>\n      <td>...</td>\n      <td>...</td>\n      <td>...</td>\n      <td>...</td>\n      <td>...</td>\n      <td>...</td>\n      <td>...</td>\n      <td>...</td>\n      <td>...</td>\n      <td>...</td>\n    </tr>\n    <tr>\n      <th>15636</th>\n      <td>-165.873658</td>\n      <td>-1807.440921</td>\n      <td>0.0</td>\n      <td>0.0</td>\n      <td>0.0</td>\n      <td>0.0</td>\n      <td>0.0</td>\n      <td>-1.486171</td>\n      <td>-15.858692</td>\n      <td>-20.030876</td>\n      <td>...</td>\n      <td>-109.013339</td>\n      <td>0.000000</td>\n      <td>0.000000</td>\n      <td>-0.225066</td>\n      <td>0.000000</td>\n      <td>0.000000</td>\n      <td>0.000000</td>\n      <td>0.000000</td>\n      <td>-41.187082</td>\n      <td>-1.264553</td>\n    </tr>\n    <tr>\n      <th>15637</th>\n      <td>-119.960190</td>\n      <td>-1807.440921</td>\n      <td>0.0</td>\n      <td>0.0</td>\n      <td>0.0</td>\n      <td>0.0</td>\n      <td>0.0</td>\n      <td>-1.413293</td>\n      <td>-15.858692</td>\n      <td>-20.030876</td>\n      <td>...</td>\n      <td>-109.013339</td>\n      <td>0.000000</td>\n      <td>-0.225066</td>\n      <td>0.000000</td>\n      <td>0.000000</td>\n      <td>0.000000</td>\n      <td>0.000000</td>\n      <td>0.000000</td>\n      <td>-41.187082</td>\n      <td>-1.524261</td>\n    </tr>\n    <tr>\n      <th>15638</th>\n      <td>-17.330084</td>\n      <td>-1807.440921</td>\n      <td>0.0</td>\n      <td>0.0</td>\n      <td>0.0</td>\n      <td>0.0</td>\n      <td>0.0</td>\n      <td>-0.979100</td>\n      <td>-15.858692</td>\n      <td>-12.828763</td>\n      <td>...</td>\n      <td>-109.013339</td>\n      <td>0.000000</td>\n      <td>0.000000</td>\n      <td>0.000000</td>\n      <td>-0.225066</td>\n      <td>0.000000</td>\n      <td>0.000000</td>\n      <td>0.000000</td>\n      <td>-41.412148</td>\n      <td>-1.590133</td>\n    </tr>\n    <tr>\n      <th>15639</th>\n      <td>-43.662808</td>\n      <td>-1807.440921</td>\n      <td>0.0</td>\n      <td>0.0</td>\n      <td>0.0</td>\n      <td>0.0</td>\n      <td>0.0</td>\n      <td>-1.186195</td>\n      <td>-15.858692</td>\n      <td>-12.828763</td>\n      <td>...</td>\n      <td>-109.013339</td>\n      <td>0.000000</td>\n      <td>0.000000</td>\n      <td>-0.225066</td>\n      <td>0.000000</td>\n      <td>0.000000</td>\n      <td>0.000000</td>\n      <td>0.000000</td>\n      <td>-41.412148</td>\n      <td>-0.927055</td>\n    </tr>\n    <tr>\n      <th>15640</th>\n      <td>-83.499494</td>\n      <td>-1807.440921</td>\n      <td>0.0</td>\n      <td>0.0</td>\n      <td>0.0</td>\n      <td>0.0</td>\n      <td>0.0</td>\n      <td>-1.331839</td>\n      <td>-15.858692</td>\n      <td>-12.828763</td>\n      <td>...</td>\n      <td>-109.013339</td>\n      <td>0.000000</td>\n      <td>-0.225066</td>\n      <td>0.000000</td>\n      <td>0.000000</td>\n      <td>0.000000</td>\n      <td>0.000000</td>\n      <td>0.000000</td>\n      <td>-41.412148</td>\n      <td>-0.827410</td>\n    </tr>\n  </tbody>\n</table>\n<p>15641 rows × 24 columns</p>\n</div>"
     },
     "execution_count": 10,
     "metadata": {},
     "output_type": "execute_result"
    }
   ],
   "source": [
    "X=pd.read_csv('~/Documents/git/SI-MRT/realdata/Xoutput.csv')\n",
    "X"
   ],
   "metadata": {
    "collapsed": false,
    "ExecuteTime": {
     "end_time": "2024-11-05T07:11:24.458604Z",
     "start_time": "2024-11-05T07:11:24.335864Z"
    }
   },
   "id": "e62dbcf4fa9d68dc",
   "execution_count": 10
  },
  {
   "cell_type": "code",
   "outputs": [],
   "source": [
    "from selectinf.lasso import lasso\n",
    "from selectinf.Utils.base import selected_targets, selected_targets_WCLS"
   ],
   "metadata": {
    "collapsed": false,
    "ExecuteTime": {
     "end_time": "2024-11-04T12:05:45.999793Z",
     "start_time": "2024-11-04T12:05:45.852715Z"
    }
   },
   "id": "7e117756862f8880",
   "execution_count": 8
  },
  {
   "cell_type": "code",
   "outputs": [
    {
     "data": {
      "text/plain": "        id  TimeEnrolled_days  Value_30min_before  Baseline_steps  IsWeekend  \\\n0        3         -11.253301          -50.189723     -908.720141  -0.000000   \n1        3         -11.253301           -1.800528     -908.720141  -0.000000   \n2        3         -11.253301          -98.578918     -908.720141  -0.000000   \n3        3         -11.253301          -26.107659     -908.720141  -0.000000   \n4        3          39.521633          130.963842     3128.851287   0.774934   \n...    ...                ...                 ...             ...        ...   \n17607  925         -41.187082         -165.873658    -1807.440921  -0.000000   \n17608  925         -41.187082         -119.960190    -1807.440921  -0.000000   \n17609  925         -41.412148          -17.330084    -1807.440921  -0.000000   \n17610  925         -41.412148          -43.662808    -1807.440921  -0.000000   \n17611  925         -41.412148          -83.499494    -1807.440921  -0.000000   \n\n       IsIndoor  IsLossFramed  IsSnow  IsActivity  Value_30min_before_tran  \\\n0     -0.000000          -0.0    -0.0   -0.000000                -1.217475   \n1     -0.000000          -0.0    -0.0   -0.000000                -0.481656   \n2     -0.000000          -0.0    -0.0   -0.000000                -1.369158   \n3     -0.000000          -0.0    -0.0   -0.000000                -1.070840   \n4      0.774934           0.0     0.0    0.774934                 3.977622   \n...         ...           ...     ...         ...                      ...   \n17607 -0.000000          -0.0    -0.0   -0.000000                -1.486171   \n17608 -0.000000          -0.0    -0.0   -0.000000                -1.413293   \n17609 -0.000000          -0.0    -0.0   -0.000000                -0.979100   \n17610 -0.000000          -0.0    -0.0   -0.000000                -1.186195   \n17611 -0.000000          -0.0    -0.0   -0.000000                -1.331839   \n\n       ...  Value_tran_sd_week  Value_tran_sd_priorweek  Distance_m_0  \\\n0      ...           -0.149006                -0.171263   -100.126135   \n1      ...           -0.149006                -0.171263   -100.126135   \n2      ...           -0.149006                -0.171263   -100.126135   \n3      ...           -0.149006                -0.171263   -100.126135   \n4      ...            0.513048                 0.589683    344.748368   \n...    ...                 ...                      ...           ...   \n17607  ...           -0.396373                -0.316187   -109.013339   \n17608  ...           -0.396373                -0.316187   -109.013339   \n17609  ...           -0.396373                -0.316187   -109.013339   \n17610  ...           -0.396373                -0.316187   -109.013339   \n17611  ...           -0.396373                -0.316187   -109.013339   \n\n            Naf       Nev       Nlu       Nmo         P2         P3         Y  \n0     -0.000000 -0.000000 -0.000000 -0.225066 -11.253301  -0.000000 -0.527985  \n1     -0.000000 -0.000000 -0.225066 -0.000000 -11.253301  -0.000000  0.489688  \n2     -0.225066 -0.000000 -0.000000 -0.000000 -11.253301  -0.000000  0.318160  \n3     -0.000000 -0.225066 -0.000000 -0.000000 -11.253301  -0.000000  0.406279  \n4      0.000000  0.000000  0.774934  0.000000  39.521633   0.000000 -0.103922  \n...         ...       ...       ...       ...        ...        ...       ...  \n17607 -0.000000 -0.000000 -0.225066 -0.000000  -0.000000 -41.187082 -0.639202  \n17608 -0.000000 -0.225066 -0.000000 -0.000000  -0.000000 -41.187082  0.888515  \n17609 -0.000000 -0.000000 -0.000000 -0.225066  -0.000000 -41.412148  1.037328  \n17610 -0.000000 -0.000000 -0.225066 -0.000000  -0.000000 -41.412148 -1.570377  \n17611 -0.000000 -0.225066 -0.000000 -0.000000  -0.000000 -41.412148 -1.849975  \n\n[17612 rows x 26 columns]",
      "text/html": "<div>\n<style scoped>\n    .dataframe tbody tr th:only-of-type {\n        vertical-align: middle;\n    }\n\n    .dataframe tbody tr th {\n        vertical-align: top;\n    }\n\n    .dataframe thead th {\n        text-align: right;\n    }\n</style>\n<table border=\"1\" class=\"dataframe\">\n  <thead>\n    <tr style=\"text-align: right;\">\n      <th></th>\n      <th>id</th>\n      <th>TimeEnrolled_days</th>\n      <th>Value_30min_before</th>\n      <th>Baseline_steps</th>\n      <th>IsWeekend</th>\n      <th>IsIndoor</th>\n      <th>IsLossFramed</th>\n      <th>IsSnow</th>\n      <th>IsActivity</th>\n      <th>Value_30min_before_tran</th>\n      <th>...</th>\n      <th>Value_tran_sd_week</th>\n      <th>Value_tran_sd_priorweek</th>\n      <th>Distance_m_0</th>\n      <th>Naf</th>\n      <th>Nev</th>\n      <th>Nlu</th>\n      <th>Nmo</th>\n      <th>P2</th>\n      <th>P3</th>\n      <th>Y</th>\n    </tr>\n  </thead>\n  <tbody>\n    <tr>\n      <th>0</th>\n      <td>3</td>\n      <td>-11.253301</td>\n      <td>-50.189723</td>\n      <td>-908.720141</td>\n      <td>-0.000000</td>\n      <td>-0.000000</td>\n      <td>-0.0</td>\n      <td>-0.0</td>\n      <td>-0.000000</td>\n      <td>-1.217475</td>\n      <td>...</td>\n      <td>-0.149006</td>\n      <td>-0.171263</td>\n      <td>-100.126135</td>\n      <td>-0.000000</td>\n      <td>-0.000000</td>\n      <td>-0.000000</td>\n      <td>-0.225066</td>\n      <td>-11.253301</td>\n      <td>-0.000000</td>\n      <td>-0.527985</td>\n    </tr>\n    <tr>\n      <th>1</th>\n      <td>3</td>\n      <td>-11.253301</td>\n      <td>-1.800528</td>\n      <td>-908.720141</td>\n      <td>-0.000000</td>\n      <td>-0.000000</td>\n      <td>-0.0</td>\n      <td>-0.0</td>\n      <td>-0.000000</td>\n      <td>-0.481656</td>\n      <td>...</td>\n      <td>-0.149006</td>\n      <td>-0.171263</td>\n      <td>-100.126135</td>\n      <td>-0.000000</td>\n      <td>-0.000000</td>\n      <td>-0.225066</td>\n      <td>-0.000000</td>\n      <td>-11.253301</td>\n      <td>-0.000000</td>\n      <td>0.489688</td>\n    </tr>\n    <tr>\n      <th>2</th>\n      <td>3</td>\n      <td>-11.253301</td>\n      <td>-98.578918</td>\n      <td>-908.720141</td>\n      <td>-0.000000</td>\n      <td>-0.000000</td>\n      <td>-0.0</td>\n      <td>-0.0</td>\n      <td>-0.000000</td>\n      <td>-1.369158</td>\n      <td>...</td>\n      <td>-0.149006</td>\n      <td>-0.171263</td>\n      <td>-100.126135</td>\n      <td>-0.225066</td>\n      <td>-0.000000</td>\n      <td>-0.000000</td>\n      <td>-0.000000</td>\n      <td>-11.253301</td>\n      <td>-0.000000</td>\n      <td>0.318160</td>\n    </tr>\n    <tr>\n      <th>3</th>\n      <td>3</td>\n      <td>-11.253301</td>\n      <td>-26.107659</td>\n      <td>-908.720141</td>\n      <td>-0.000000</td>\n      <td>-0.000000</td>\n      <td>-0.0</td>\n      <td>-0.0</td>\n      <td>-0.000000</td>\n      <td>-1.070840</td>\n      <td>...</td>\n      <td>-0.149006</td>\n      <td>-0.171263</td>\n      <td>-100.126135</td>\n      <td>-0.000000</td>\n      <td>-0.225066</td>\n      <td>-0.000000</td>\n      <td>-0.000000</td>\n      <td>-11.253301</td>\n      <td>-0.000000</td>\n      <td>0.406279</td>\n    </tr>\n    <tr>\n      <th>4</th>\n      <td>3</td>\n      <td>39.521633</td>\n      <td>130.963842</td>\n      <td>3128.851287</td>\n      <td>0.774934</td>\n      <td>0.774934</td>\n      <td>0.0</td>\n      <td>0.0</td>\n      <td>0.774934</td>\n      <td>3.977622</td>\n      <td>...</td>\n      <td>0.513048</td>\n      <td>0.589683</td>\n      <td>344.748368</td>\n      <td>0.000000</td>\n      <td>0.000000</td>\n      <td>0.774934</td>\n      <td>0.000000</td>\n      <td>39.521633</td>\n      <td>0.000000</td>\n      <td>-0.103922</td>\n    </tr>\n    <tr>\n      <th>...</th>\n      <td>...</td>\n      <td>...</td>\n      <td>...</td>\n      <td>...</td>\n      <td>...</td>\n      <td>...</td>\n      <td>...</td>\n      <td>...</td>\n      <td>...</td>\n      <td>...</td>\n      <td>...</td>\n      <td>...</td>\n      <td>...</td>\n      <td>...</td>\n      <td>...</td>\n      <td>...</td>\n      <td>...</td>\n      <td>...</td>\n      <td>...</td>\n      <td>...</td>\n      <td>...</td>\n    </tr>\n    <tr>\n      <th>17607</th>\n      <td>925</td>\n      <td>-41.187082</td>\n      <td>-165.873658</td>\n      <td>-1807.440921</td>\n      <td>-0.000000</td>\n      <td>-0.000000</td>\n      <td>-0.0</td>\n      <td>-0.0</td>\n      <td>-0.000000</td>\n      <td>-1.486171</td>\n      <td>...</td>\n      <td>-0.396373</td>\n      <td>-0.316187</td>\n      <td>-109.013339</td>\n      <td>-0.000000</td>\n      <td>-0.000000</td>\n      <td>-0.225066</td>\n      <td>-0.000000</td>\n      <td>-0.000000</td>\n      <td>-41.187082</td>\n      <td>-0.639202</td>\n    </tr>\n    <tr>\n      <th>17608</th>\n      <td>925</td>\n      <td>-41.187082</td>\n      <td>-119.960190</td>\n      <td>-1807.440921</td>\n      <td>-0.000000</td>\n      <td>-0.000000</td>\n      <td>-0.0</td>\n      <td>-0.0</td>\n      <td>-0.000000</td>\n      <td>-1.413293</td>\n      <td>...</td>\n      <td>-0.396373</td>\n      <td>-0.316187</td>\n      <td>-109.013339</td>\n      <td>-0.000000</td>\n      <td>-0.225066</td>\n      <td>-0.000000</td>\n      <td>-0.000000</td>\n      <td>-0.000000</td>\n      <td>-41.187082</td>\n      <td>0.888515</td>\n    </tr>\n    <tr>\n      <th>17609</th>\n      <td>925</td>\n      <td>-41.412148</td>\n      <td>-17.330084</td>\n      <td>-1807.440921</td>\n      <td>-0.000000</td>\n      <td>-0.000000</td>\n      <td>-0.0</td>\n      <td>-0.0</td>\n      <td>-0.000000</td>\n      <td>-0.979100</td>\n      <td>...</td>\n      <td>-0.396373</td>\n      <td>-0.316187</td>\n      <td>-109.013339</td>\n      <td>-0.000000</td>\n      <td>-0.000000</td>\n      <td>-0.000000</td>\n      <td>-0.225066</td>\n      <td>-0.000000</td>\n      <td>-41.412148</td>\n      <td>1.037328</td>\n    </tr>\n    <tr>\n      <th>17610</th>\n      <td>925</td>\n      <td>-41.412148</td>\n      <td>-43.662808</td>\n      <td>-1807.440921</td>\n      <td>-0.000000</td>\n      <td>-0.000000</td>\n      <td>-0.0</td>\n      <td>-0.0</td>\n      <td>-0.000000</td>\n      <td>-1.186195</td>\n      <td>...</td>\n      <td>-0.396373</td>\n      <td>-0.316187</td>\n      <td>-109.013339</td>\n      <td>-0.000000</td>\n      <td>-0.000000</td>\n      <td>-0.225066</td>\n      <td>-0.000000</td>\n      <td>-0.000000</td>\n      <td>-41.412148</td>\n      <td>-1.570377</td>\n    </tr>\n    <tr>\n      <th>17611</th>\n      <td>925</td>\n      <td>-41.412148</td>\n      <td>-83.499494</td>\n      <td>-1807.440921</td>\n      <td>-0.000000</td>\n      <td>-0.000000</td>\n      <td>-0.0</td>\n      <td>-0.0</td>\n      <td>-0.000000</td>\n      <td>-1.331839</td>\n      <td>...</td>\n      <td>-0.396373</td>\n      <td>-0.316187</td>\n      <td>-109.013339</td>\n      <td>-0.000000</td>\n      <td>-0.225066</td>\n      <td>-0.000000</td>\n      <td>-0.000000</td>\n      <td>-0.000000</td>\n      <td>-41.412148</td>\n      <td>-1.849975</td>\n    </tr>\n  </tbody>\n</table>\n<p>17612 rows × 26 columns</p>\n</div>"
     },
     "execution_count": 60,
     "metadata": {},
     "output_type": "execute_result"
    }
   ],
   "source": [
    "stepsdata = pd.read_csv('~/Documents/git/SI-MRT/realdata/stepsdata.csv')\n",
    "columns = [stepsdata.columns[-1]] + list(stepsdata.columns[:-1])\n",
    "stepsdata = stepsdata[columns]\n",
    "stepsdata"
   ],
   "metadata": {
    "collapsed": false,
    "ExecuteTime": {
     "end_time": "2024-11-04T15:36:14.228009Z",
     "start_time": "2024-11-04T15:36:13.934568Z"
    }
   },
   "id": "f533eb4f6fd68a28",
   "execution_count": 60
  },
  {
   "cell_type": "code",
   "outputs": [],
   "source": [
    "covariates = [\n",
    "    # 'TimeEnrolled_days',\n",
    "    'Value_30min_before',\n",
    "    'Baseline_steps',\n",
    "    'IsWeekend',\n",
    "    'IsIndoor',\n",
    "    'IsLossFramed',\n",
    "    'IsSnow',\n",
    "    'IsActivity',\n",
    "    'Value_30min_before_tran',\n",
    "    'AgeEnrollment_years',\n",
    "    'GenderM',\n",
    "    'RaceC',\n",
    "    'ExerciseTimeAgg_min',\n",
    "    'WalkDistanceAgg_m',\n",
    "    'StepsAgg_priorweek',\n",
    "    'Value_tran_sd_week',\n",
    "    'Value_tran_sd_priorweek',\n",
    "    'Distance_m_0',\n",
    "    'Naf',  \n",
    "    'Nev',\n",
    "    'Nlu',\n",
    "    'Nmo',\n",
    "    'P2',\n",
    "    'P3'\n",
    "]\n",
    "\n",
    "# Linear regression model for estimation set\n",
    "X = stepsdata[covariates]\n",
    "Y = stepsdata['Y']"
   ],
   "metadata": {
    "collapsed": false,
    "ExecuteTime": {
     "end_time": "2024-11-04T15:36:15.970488Z",
     "start_time": "2024-11-04T15:36:15.963461Z"
    }
   },
   "id": "c7932afc9e8ba790",
   "execution_count": 61
  },
  {
   "cell_type": "code",
   "outputs": [
    {
     "data": {
      "text/plain": "       Value_30min_before  Baseline_steps  IsWeekend  IsIndoor  IsLossFramed  \\\n0              -50.189723     -908.720141  -0.000000 -0.000000          -0.0   \n1               -1.800528     -908.720141  -0.000000 -0.000000          -0.0   \n2              -98.578918     -908.720141  -0.000000 -0.000000          -0.0   \n3              -26.107659     -908.720141  -0.000000 -0.000000          -0.0   \n4              130.963842     3128.851287   0.774934  0.774934           0.0   \n...                   ...             ...        ...       ...           ...   \n17607         -165.873658    -1807.440921  -0.000000 -0.000000          -0.0   \n17608         -119.960190    -1807.440921  -0.000000 -0.000000          -0.0   \n17609          -17.330084    -1807.440921  -0.000000 -0.000000          -0.0   \n17610          -43.662808    -1807.440921  -0.000000 -0.000000          -0.0   \n17611          -83.499494    -1807.440921  -0.000000 -0.000000          -0.0   \n\n       IsSnow  IsActivity  Value_30min_before_tran  AgeEnrollment_years  \\\n0        -0.0   -0.000000                -1.217475           -12.024085   \n1        -0.0   -0.000000                -0.481656           -12.024085   \n2        -0.0   -0.000000                -1.369158           -12.024085   \n3        -0.0   -0.000000                -1.070840           -12.024085   \n4         0.0    0.774934                 3.977622            41.400615   \n...       ...         ...                      ...                  ...   \n17607    -0.0   -0.000000                -1.486171           -15.858692   \n17608    -0.0   -0.000000                -1.413293           -15.858692   \n17609    -0.0   -0.000000                -0.979100           -15.858692   \n17610    -0.0   -0.000000                -1.186195           -15.858692   \n17611    -0.0   -0.000000                -1.331839           -15.858692   \n\n       GenderM  ...  StepsAgg_priorweek  Value_tran_sd_week  \\\n0         -0.0  ...         -962.639530           -0.149006   \n1         -0.0  ...         -962.639530           -0.149006   \n2         -0.0  ...         -962.639530           -0.149006   \n3         -0.0  ...         -962.639530           -0.149006   \n4          0.0  ...         3314.503327            0.513048   \n...        ...  ...                 ...                 ...   \n17607     -0.0  ...        -1679.185441           -0.396373   \n17608     -0.0  ...        -1679.185441           -0.396373   \n17609     -0.0  ...        -1679.185441           -0.396373   \n17610     -0.0  ...        -1679.185441           -0.396373   \n17611     -0.0  ...        -1679.185441           -0.396373   \n\n       Value_tran_sd_priorweek  Distance_m_0       Naf       Nev       Nlu  \\\n0                    -0.171263   -100.126135 -0.000000 -0.000000 -0.000000   \n1                    -0.171263   -100.126135 -0.000000 -0.000000 -0.225066   \n2                    -0.171263   -100.126135 -0.225066 -0.000000 -0.000000   \n3                    -0.171263   -100.126135 -0.000000 -0.225066 -0.000000   \n4                     0.589683    344.748368  0.000000  0.000000  0.774934   \n...                        ...           ...       ...       ...       ...   \n17607                -0.316187   -109.013339 -0.000000 -0.000000 -0.225066   \n17608                -0.316187   -109.013339 -0.000000 -0.225066 -0.000000   \n17609                -0.316187   -109.013339 -0.000000 -0.000000 -0.000000   \n17610                -0.316187   -109.013339 -0.000000 -0.000000 -0.225066   \n17611                -0.316187   -109.013339 -0.000000 -0.225066 -0.000000   \n\n            Nmo         P2         P3  \n0     -0.225066 -11.253301  -0.000000  \n1     -0.000000 -11.253301  -0.000000  \n2     -0.000000 -11.253301  -0.000000  \n3     -0.000000 -11.253301  -0.000000  \n4      0.000000  39.521633   0.000000  \n...         ...        ...        ...  \n17607 -0.000000  -0.000000 -41.187082  \n17608 -0.000000  -0.000000 -41.187082  \n17609 -0.225066  -0.000000 -41.412148  \n17610 -0.000000  -0.000000 -41.412148  \n17611 -0.000000  -0.000000 -41.412148  \n\n[17612 rows x 23 columns]",
      "text/html": "<div>\n<style scoped>\n    .dataframe tbody tr th:only-of-type {\n        vertical-align: middle;\n    }\n\n    .dataframe tbody tr th {\n        vertical-align: top;\n    }\n\n    .dataframe thead th {\n        text-align: right;\n    }\n</style>\n<table border=\"1\" class=\"dataframe\">\n  <thead>\n    <tr style=\"text-align: right;\">\n      <th></th>\n      <th>Value_30min_before</th>\n      <th>Baseline_steps</th>\n      <th>IsWeekend</th>\n      <th>IsIndoor</th>\n      <th>IsLossFramed</th>\n      <th>IsSnow</th>\n      <th>IsActivity</th>\n      <th>Value_30min_before_tran</th>\n      <th>AgeEnrollment_years</th>\n      <th>GenderM</th>\n      <th>...</th>\n      <th>StepsAgg_priorweek</th>\n      <th>Value_tran_sd_week</th>\n      <th>Value_tran_sd_priorweek</th>\n      <th>Distance_m_0</th>\n      <th>Naf</th>\n      <th>Nev</th>\n      <th>Nlu</th>\n      <th>Nmo</th>\n      <th>P2</th>\n      <th>P3</th>\n    </tr>\n  </thead>\n  <tbody>\n    <tr>\n      <th>0</th>\n      <td>-50.189723</td>\n      <td>-908.720141</td>\n      <td>-0.000000</td>\n      <td>-0.000000</td>\n      <td>-0.0</td>\n      <td>-0.0</td>\n      <td>-0.000000</td>\n      <td>-1.217475</td>\n      <td>-12.024085</td>\n      <td>-0.0</td>\n      <td>...</td>\n      <td>-962.639530</td>\n      <td>-0.149006</td>\n      <td>-0.171263</td>\n      <td>-100.126135</td>\n      <td>-0.000000</td>\n      <td>-0.000000</td>\n      <td>-0.000000</td>\n      <td>-0.225066</td>\n      <td>-11.253301</td>\n      <td>-0.000000</td>\n    </tr>\n    <tr>\n      <th>1</th>\n      <td>-1.800528</td>\n      <td>-908.720141</td>\n      <td>-0.000000</td>\n      <td>-0.000000</td>\n      <td>-0.0</td>\n      <td>-0.0</td>\n      <td>-0.000000</td>\n      <td>-0.481656</td>\n      <td>-12.024085</td>\n      <td>-0.0</td>\n      <td>...</td>\n      <td>-962.639530</td>\n      <td>-0.149006</td>\n      <td>-0.171263</td>\n      <td>-100.126135</td>\n      <td>-0.000000</td>\n      <td>-0.000000</td>\n      <td>-0.225066</td>\n      <td>-0.000000</td>\n      <td>-11.253301</td>\n      <td>-0.000000</td>\n    </tr>\n    <tr>\n      <th>2</th>\n      <td>-98.578918</td>\n      <td>-908.720141</td>\n      <td>-0.000000</td>\n      <td>-0.000000</td>\n      <td>-0.0</td>\n      <td>-0.0</td>\n      <td>-0.000000</td>\n      <td>-1.369158</td>\n      <td>-12.024085</td>\n      <td>-0.0</td>\n      <td>...</td>\n      <td>-962.639530</td>\n      <td>-0.149006</td>\n      <td>-0.171263</td>\n      <td>-100.126135</td>\n      <td>-0.225066</td>\n      <td>-0.000000</td>\n      <td>-0.000000</td>\n      <td>-0.000000</td>\n      <td>-11.253301</td>\n      <td>-0.000000</td>\n    </tr>\n    <tr>\n      <th>3</th>\n      <td>-26.107659</td>\n      <td>-908.720141</td>\n      <td>-0.000000</td>\n      <td>-0.000000</td>\n      <td>-0.0</td>\n      <td>-0.0</td>\n      <td>-0.000000</td>\n      <td>-1.070840</td>\n      <td>-12.024085</td>\n      <td>-0.0</td>\n      <td>...</td>\n      <td>-962.639530</td>\n      <td>-0.149006</td>\n      <td>-0.171263</td>\n      <td>-100.126135</td>\n      <td>-0.000000</td>\n      <td>-0.225066</td>\n      <td>-0.000000</td>\n      <td>-0.000000</td>\n      <td>-11.253301</td>\n      <td>-0.000000</td>\n    </tr>\n    <tr>\n      <th>4</th>\n      <td>130.963842</td>\n      <td>3128.851287</td>\n      <td>0.774934</td>\n      <td>0.774934</td>\n      <td>0.0</td>\n      <td>0.0</td>\n      <td>0.774934</td>\n      <td>3.977622</td>\n      <td>41.400615</td>\n      <td>0.0</td>\n      <td>...</td>\n      <td>3314.503327</td>\n      <td>0.513048</td>\n      <td>0.589683</td>\n      <td>344.748368</td>\n      <td>0.000000</td>\n      <td>0.000000</td>\n      <td>0.774934</td>\n      <td>0.000000</td>\n      <td>39.521633</td>\n      <td>0.000000</td>\n    </tr>\n    <tr>\n      <th>...</th>\n      <td>...</td>\n      <td>...</td>\n      <td>...</td>\n      <td>...</td>\n      <td>...</td>\n      <td>...</td>\n      <td>...</td>\n      <td>...</td>\n      <td>...</td>\n      <td>...</td>\n      <td>...</td>\n      <td>...</td>\n      <td>...</td>\n      <td>...</td>\n      <td>...</td>\n      <td>...</td>\n      <td>...</td>\n      <td>...</td>\n      <td>...</td>\n      <td>...</td>\n      <td>...</td>\n    </tr>\n    <tr>\n      <th>17607</th>\n      <td>-165.873658</td>\n      <td>-1807.440921</td>\n      <td>-0.000000</td>\n      <td>-0.000000</td>\n      <td>-0.0</td>\n      <td>-0.0</td>\n      <td>-0.000000</td>\n      <td>-1.486171</td>\n      <td>-15.858692</td>\n      <td>-0.0</td>\n      <td>...</td>\n      <td>-1679.185441</td>\n      <td>-0.396373</td>\n      <td>-0.316187</td>\n      <td>-109.013339</td>\n      <td>-0.000000</td>\n      <td>-0.000000</td>\n      <td>-0.225066</td>\n      <td>-0.000000</td>\n      <td>-0.000000</td>\n      <td>-41.187082</td>\n    </tr>\n    <tr>\n      <th>17608</th>\n      <td>-119.960190</td>\n      <td>-1807.440921</td>\n      <td>-0.000000</td>\n      <td>-0.000000</td>\n      <td>-0.0</td>\n      <td>-0.0</td>\n      <td>-0.000000</td>\n      <td>-1.413293</td>\n      <td>-15.858692</td>\n      <td>-0.0</td>\n      <td>...</td>\n      <td>-1679.185441</td>\n      <td>-0.396373</td>\n      <td>-0.316187</td>\n      <td>-109.013339</td>\n      <td>-0.000000</td>\n      <td>-0.225066</td>\n      <td>-0.000000</td>\n      <td>-0.000000</td>\n      <td>-0.000000</td>\n      <td>-41.187082</td>\n    </tr>\n    <tr>\n      <th>17609</th>\n      <td>-17.330084</td>\n      <td>-1807.440921</td>\n      <td>-0.000000</td>\n      <td>-0.000000</td>\n      <td>-0.0</td>\n      <td>-0.0</td>\n      <td>-0.000000</td>\n      <td>-0.979100</td>\n      <td>-15.858692</td>\n      <td>-0.0</td>\n      <td>...</td>\n      <td>-1679.185441</td>\n      <td>-0.396373</td>\n      <td>-0.316187</td>\n      <td>-109.013339</td>\n      <td>-0.000000</td>\n      <td>-0.000000</td>\n      <td>-0.000000</td>\n      <td>-0.225066</td>\n      <td>-0.000000</td>\n      <td>-41.412148</td>\n    </tr>\n    <tr>\n      <th>17610</th>\n      <td>-43.662808</td>\n      <td>-1807.440921</td>\n      <td>-0.000000</td>\n      <td>-0.000000</td>\n      <td>-0.0</td>\n      <td>-0.0</td>\n      <td>-0.000000</td>\n      <td>-1.186195</td>\n      <td>-15.858692</td>\n      <td>-0.0</td>\n      <td>...</td>\n      <td>-1679.185441</td>\n      <td>-0.396373</td>\n      <td>-0.316187</td>\n      <td>-109.013339</td>\n      <td>-0.000000</td>\n      <td>-0.000000</td>\n      <td>-0.225066</td>\n      <td>-0.000000</td>\n      <td>-0.000000</td>\n      <td>-41.412148</td>\n    </tr>\n    <tr>\n      <th>17611</th>\n      <td>-83.499494</td>\n      <td>-1807.440921</td>\n      <td>-0.000000</td>\n      <td>-0.000000</td>\n      <td>-0.0</td>\n      <td>-0.0</td>\n      <td>-0.000000</td>\n      <td>-1.331839</td>\n      <td>-15.858692</td>\n      <td>-0.0</td>\n      <td>...</td>\n      <td>-1679.185441</td>\n      <td>-0.396373</td>\n      <td>-0.316187</td>\n      <td>-109.013339</td>\n      <td>-0.000000</td>\n      <td>-0.225066</td>\n      <td>-0.000000</td>\n      <td>-0.000000</td>\n      <td>-0.000000</td>\n      <td>-41.412148</td>\n    </tr>\n  </tbody>\n</table>\n<p>17612 rows × 23 columns</p>\n</div>"
     },
     "execution_count": 63,
     "metadata": {},
     "output_type": "execute_result"
    }
   ],
   "source": [
    "X"
   ],
   "metadata": {
    "collapsed": false,
    "ExecuteTime": {
     "end_time": "2024-11-04T15:36:37.747177Z",
     "start_time": "2024-11-04T15:36:37.717885Z"
    }
   },
   "id": "e763cfb0246687ba",
   "execution_count": 63
  },
  {
   "cell_type": "code",
   "outputs": [
    {
     "name": "stdout",
     "output_type": "stream",
     "text": [
      "Collinear pairs (threshold > 0.99): [('Baseline_steps', 'StepsAgg_priorweek'), ('Value_30min_before_tran', 'Distance_m_0')]\n"
     ]
    }
   ],
   "source": [
    "correlation_matrix = X.corr().abs()  # Get the absolute correlation matrix\n",
    "upper_triangle = correlation_matrix.where(\n",
    "    np.triu(np.ones(correlation_matrix.shape), k=1).astype(bool))\n",
    "\n",
    "# Identify columns with correlation greater than a threshold (e.g., 0.9)\n",
    "collinear_pairs = [(column, index) for column, row in upper_triangle.iterrows() for index, value in row.items() if value > 0.95]\n",
    "\n",
    "# Print collinear pairs\n",
    "print(\"Collinear pairs (threshold > 0.99):\", collinear_pairs)"
   ],
   "metadata": {
    "collapsed": false,
    "ExecuteTime": {
     "end_time": "2024-11-08T04:35:04.801468Z",
     "start_time": "2024-11-08T04:35:04.788536Z"
    }
   },
   "id": "c3ae25a468bc7f4b",
   "execution_count": 123
  },
  {
   "cell_type": "code",
   "outputs": [
    {
     "name": "stdout",
     "output_type": "stream",
     "text": [
      "size of selected set  6\n",
      "selected moderators                       x\n",
      "0   Value_30min_before\n",
      "1       Baseline_steps\n",
      "10   WalkDistanceAgg_m\n",
      "11  StepsAgg_priorweek\n",
      "14        Distance_m_0\n",
      "22                  P3\n"
     ]
    }
   ],
   "source": [
    "n, p = X.shape\n",
    "sigma_ = np.std(Y)\n",
    "\n",
    "if n > (2 * p):\n",
    "    dispersion = np.linalg.norm(Y - X.dot(np.linalg.pinv(X).dot(Y))) ** 2 / (n - p)\n",
    "else:\n",
    "    dispersion = sigma_ ** 2\n",
    "\n",
    "eps = np.random.standard_normal((n, 2000)) * Y.std()\n",
    "W = 50 * np.median(np.abs(X.T.dot(eps)).max(1))\n",
    "\n",
    "const = lasso.gaussian\n",
    "randomizer_scale = 1.\n",
    "conv = const(X,\n",
    "             Y,\n",
    "             W,\n",
    "             ridge_term=0.,\n",
    "             randomizer_scale=randomizer_scale * np.sqrt(dispersion))\n",
    "\n",
    "signs = conv.fit()\n",
    "nonzero = signs != 0\n",
    "print(\"size of selected set \", nonzero.sum())\n",
    "print(\"selected moderators \", names[nonzero])"
   ],
   "metadata": {
    "collapsed": false,
    "ExecuteTime": {
     "end_time": "2024-11-06T22:50:02.657529Z",
     "start_time": "2024-11-06T22:49:58.713686Z"
    }
   },
   "id": "4c457c7f9be7a256",
   "execution_count": 31
  },
  {
   "cell_type": "code",
   "outputs": [
    {
     "ename": "ValueError",
     "evalue": "operands could not be broadcast together with shapes (23,) (23,15641) (23,) ",
     "output_type": "error",
     "traceback": [
      "\u001B[0;31m---------------------------------------------------------------------------\u001B[0m",
      "\u001B[0;31mValueError\u001B[0m                                Traceback (most recent call last)",
      "Cell \u001B[0;32mIn[55], line 16\u001B[0m\n\u001B[1;32m      9\u001B[0m randomizer_scale \u001B[38;5;241m=\u001B[39m \u001B[38;5;241m1.\u001B[39m\n\u001B[1;32m     10\u001B[0m conv \u001B[38;5;241m=\u001B[39m const(X,\n\u001B[1;32m     11\u001B[0m              Y,\n\u001B[1;32m     12\u001B[0m              W,\n\u001B[1;32m     13\u001B[0m              ridge_term\u001B[38;5;241m=\u001B[39m\u001B[38;5;241m0.\u001B[39m,\n\u001B[1;32m     14\u001B[0m              randomizer_scale\u001B[38;5;241m=\u001B[39mrandomizer_scale \u001B[38;5;241m*\u001B[39m np\u001B[38;5;241m.\u001B[39msqrt(dispersion))\n\u001B[0;32m---> 16\u001B[0m signs \u001B[38;5;241m=\u001B[39m \u001B[43mconv\u001B[49m\u001B[38;5;241;43m.\u001B[39;49m\u001B[43mfit\u001B[49m\u001B[43m(\u001B[49m\u001B[43m)\u001B[49m\n\u001B[1;32m     17\u001B[0m nonzero \u001B[38;5;241m=\u001B[39m signs \u001B[38;5;241m!=\u001B[39m \u001B[38;5;241m0\u001B[39m\n",
      "File \u001B[0;32m~/Documents/git/SI-MRT/selectinf/lasso.py:101\u001B[0m, in \u001B[0;36mlasso.fit\u001B[0;34m(self, solve_args, perturb)\u001B[0m\n\u001B[1;32m     80\u001B[0m \u001B[38;5;250m\u001B[39m\u001B[38;5;124;03m\"\"\"\u001B[39;00m\n\u001B[1;32m     81\u001B[0m \n\u001B[1;32m     82\u001B[0m \u001B[38;5;124;03mFit the randomized lasso using `regreg`.\u001B[39;00m\n\u001B[0;32m   (...)\u001B[0m\n\u001B[1;32m     95\u001B[0m \n\u001B[1;32m     96\u001B[0m \u001B[38;5;124;03m\"\"\"\u001B[39;00m\n\u001B[1;32m     98\u001B[0m p \u001B[38;5;241m=\u001B[39m \u001B[38;5;28mself\u001B[39m\u001B[38;5;241m.\u001B[39mnfeature\n\u001B[1;32m    100\u001B[0m (\u001B[38;5;28mself\u001B[39m\u001B[38;5;241m.\u001B[39mobserved_soln,\n\u001B[0;32m--> 101\u001B[0m  \u001B[38;5;28mself\u001B[39m\u001B[38;5;241m.\u001B[39mobserved_subgrad) \u001B[38;5;241m=\u001B[39m \u001B[38;5;28;43mself\u001B[39;49m\u001B[38;5;241;43m.\u001B[39;49m\u001B[43m_solve_randomized_problem\u001B[49m\u001B[43m(\u001B[49m\n\u001B[1;32m    102\u001B[0m \u001B[43m    \u001B[49m\u001B[43mperturb\u001B[49m\u001B[38;5;241;43m=\u001B[39;49m\u001B[43mperturb\u001B[49m\u001B[43m,\u001B[49m\n\u001B[1;32m    103\u001B[0m \u001B[43m    \u001B[49m\u001B[43msolve_args\u001B[49m\u001B[38;5;241;43m=\u001B[39;49m\u001B[43msolve_args\u001B[49m\u001B[43m)\u001B[49m\n\u001B[1;32m    105\u001B[0m active_signs \u001B[38;5;241m=\u001B[39m np\u001B[38;5;241m.\u001B[39msign(\u001B[38;5;28mself\u001B[39m\u001B[38;5;241m.\u001B[39mobserved_soln)\n\u001B[1;32m    106\u001B[0m active \u001B[38;5;241m=\u001B[39m \u001B[38;5;28mself\u001B[39m\u001B[38;5;241m.\u001B[39m_active \u001B[38;5;241m=\u001B[39m active_signs \u001B[38;5;241m!=\u001B[39m \u001B[38;5;241m0\u001B[39m\n",
      "File \u001B[0;32m~/Documents/git/SI-MRT/selectinf/lasso.py:263\u001B[0m, in \u001B[0;36mlasso._solve_randomized_problem\u001B[0;34m(self, perturb, solve_args)\u001B[0m\n\u001B[1;32m    256\u001B[0m quad \u001B[38;5;241m=\u001B[39m rr\u001B[38;5;241m.\u001B[39midentity_quadratic(\u001B[38;5;28mself\u001B[39m\u001B[38;5;241m.\u001B[39mridge_term,\n\u001B[1;32m    257\u001B[0m                              \u001B[38;5;241m0\u001B[39m,\n\u001B[1;32m    258\u001B[0m                              \u001B[38;5;241m-\u001B[39m\u001B[38;5;28mself\u001B[39m\u001B[38;5;241m.\u001B[39m_initial_omega,\n\u001B[1;32m    259\u001B[0m                              \u001B[38;5;241m0\u001B[39m)\n\u001B[1;32m    261\u001B[0m problem \u001B[38;5;241m=\u001B[39m rr\u001B[38;5;241m.\u001B[39msimple_problem(\u001B[38;5;28mself\u001B[39m\u001B[38;5;241m.\u001B[39mloglike, \u001B[38;5;28mself\u001B[39m\u001B[38;5;241m.\u001B[39mpenalty)\n\u001B[0;32m--> 263\u001B[0m observed_soln \u001B[38;5;241m=\u001B[39m \u001B[43mproblem\u001B[49m\u001B[38;5;241;43m.\u001B[39;49m\u001B[43msolve\u001B[49m\u001B[43m(\u001B[49m\u001B[43mquad\u001B[49m\u001B[43m,\u001B[49m\u001B[43m \u001B[49m\u001B[38;5;241;43m*\u001B[39;49m\u001B[38;5;241;43m*\u001B[39;49m\u001B[43msolve_args\u001B[49m\u001B[43m)\u001B[49m\n\u001B[1;32m    264\u001B[0m observed_subgrad \u001B[38;5;241m=\u001B[39m \u001B[38;5;241m-\u001B[39m(\u001B[38;5;28mself\u001B[39m\u001B[38;5;241m.\u001B[39mloglike\u001B[38;5;241m.\u001B[39msmooth_objective(observed_soln,\n\u001B[1;32m    265\u001B[0m                                                    \u001B[38;5;124m'\u001B[39m\u001B[38;5;124mgrad\u001B[39m\u001B[38;5;124m'\u001B[39m) \u001B[38;5;241m+\u001B[39m\n\u001B[1;32m    266\u001B[0m                      quad\u001B[38;5;241m.\u001B[39mobjective(observed_soln, \u001B[38;5;124m'\u001B[39m\u001B[38;5;124mgrad\u001B[39m\u001B[38;5;124m'\u001B[39m))\n\u001B[1;32m    268\u001B[0m \u001B[38;5;28;01mreturn\u001B[39;00m observed_soln, observed_subgrad\n",
      "File \u001B[0;32m~/Documents/git/SI-MRT/SI_MRT/lib/python3.11/site-packages/regreg-0+untagged.1201.gd1b62cc.dirty-py3.11-macosx-13-arm64.egg/regreg/problems/simple.py:85\u001B[0m, in \u001B[0;36msimple_problem.solve\u001B[0;34m(self, quadratic, return_optimum, **fit_args)\u001B[0m\n\u001B[1;32m     83\u001B[0m solver \u001B[38;5;241m=\u001B[39m FISTA(\u001B[38;5;28mself\u001B[39m)\n\u001B[1;32m     84\u001B[0m solver\u001B[38;5;241m.\u001B[39mcomposite\u001B[38;5;241m.\u001B[39mcoefs[:] \u001B[38;5;241m=\u001B[39m \u001B[38;5;28mself\u001B[39m\u001B[38;5;241m.\u001B[39mcoefs\n\u001B[0;32m---> 85\u001B[0m \u001B[38;5;28mself\u001B[39m\u001B[38;5;241m.\u001B[39msolver_results \u001B[38;5;241m=\u001B[39m \u001B[43msolver\u001B[49m\u001B[38;5;241;43m.\u001B[39;49m\u001B[43mfit\u001B[49m\u001B[43m(\u001B[49m\u001B[38;5;241;43m*\u001B[39;49m\u001B[38;5;241;43m*\u001B[39;49m\u001B[43mfit_args\u001B[49m\u001B[43m)\u001B[49m\n\u001B[1;32m     86\u001B[0m \u001B[38;5;28mself\u001B[39m\u001B[38;5;241m.\u001B[39mfinal_step \u001B[38;5;241m=\u001B[39m solver\u001B[38;5;241m.\u001B[39mstep\n\u001B[1;32m     88\u001B[0m \u001B[38;5;28;01mif\u001B[39;00m return_optimum:\n",
      "File \u001B[0;32m~/Documents/git/SI-MRT/SI_MRT/lib/python3.11/site-packages/regreg-0+untagged.1201.gd1b62cc.dirty-py3.11-macosx-13-arm64.egg/regreg/algorithms.py:131\u001B[0m, in \u001B[0;36mFISTA.fit\u001B[0;34m(self, tol, min_its, max_its, FISTA, start_step, restart, coef_stop, return_objective_hist, monotonicity_restart, debug, prox_control)\u001B[0m\n\u001B[1;32m    129\u001B[0m \u001B[38;5;66;03m# Backtracking loop\u001B[39;00m\n\u001B[1;32m    130\u001B[0m \u001B[38;5;28;01mif\u001B[39;00m \u001B[38;5;28mself\u001B[39m\u001B[38;5;241m.\u001B[39mperform_backtrack:\n\u001B[0;32m--> 131\u001B[0m     proposed_coefs, proposed_smooth \u001B[38;5;241m=\u001B[39m \u001B[38;5;28;43mself\u001B[39;49m\u001B[38;5;241;43m.\u001B[39;49m\u001B[43mbacktrack\u001B[49m\u001B[43m(\u001B[49m\u001B[43mitercount\u001B[49m\u001B[43m)\u001B[49m\n\u001B[1;32m    133\u001B[0m \u001B[38;5;28;01melse\u001B[39;00m:\n\u001B[1;32m    134\u001B[0m     \u001B[38;5;66;03m#Use specified Lipschitz constant\u001B[39;00m\n\u001B[1;32m    135\u001B[0m     working_grad \u001B[38;5;241m=\u001B[39m \u001B[38;5;28mself\u001B[39m\u001B[38;5;241m.\u001B[39mcomposite\u001B[38;5;241m.\u001B[39msmooth_objective(\u001B[38;5;28mself\u001B[39m\u001B[38;5;241m.\u001B[39mworking_coefs, mode\u001B[38;5;241m=\u001B[39m\u001B[38;5;124m'\u001B[39m\u001B[38;5;124mgrad\u001B[39m\u001B[38;5;124m'\u001B[39m)\n",
      "File \u001B[0;32m~/Documents/git/SI-MRT/SI_MRT/lib/python3.11/site-packages/regreg-0+untagged.1201.gd1b62cc.dirty-py3.11-macosx-13-arm64.egg/regreg/algorithms.py:242\u001B[0m, in \u001B[0;36mFISTA.backtrack\u001B[0;34m(self, itercount)\u001B[0m\n\u001B[1;32m    236\u001B[0m     proposed_coefs \u001B[38;5;241m=\u001B[39m \u001B[38;5;28mself\u001B[39m\u001B[38;5;241m.\u001B[39mcomposite\u001B[38;5;241m.\u001B[39mproximal_step(sq(\u001B[38;5;241m1.\u001B[39m \u001B[38;5;241m/\u001B[39m \u001B[38;5;28mself\u001B[39m\u001B[38;5;241m.\u001B[39mstep, \n\u001B[1;32m    237\u001B[0m                                                      \u001B[38;5;28mself\u001B[39m\u001B[38;5;241m.\u001B[39mworking_coefs, \n\u001B[1;32m    238\u001B[0m                                                      working_grad, \n\u001B[1;32m    239\u001B[0m                                                      \u001B[38;5;241m0\u001B[39m), \n\u001B[1;32m    240\u001B[0m                                                   prox_control\u001B[38;5;241m=\u001B[39mprox_control)\n\u001B[1;32m    241\u001B[0m \u001B[38;5;28;01melse\u001B[39;00m:\n\u001B[0;32m--> 242\u001B[0m     proposed_coefs \u001B[38;5;241m=\u001B[39m \u001B[38;5;28;43mself\u001B[39;49m\u001B[38;5;241;43m.\u001B[39;49m\u001B[43mcomposite\u001B[49m\u001B[38;5;241;43m.\u001B[39;49m\u001B[43mproximal_step\u001B[49m\u001B[43m(\u001B[49m\u001B[43msq\u001B[49m\u001B[43m(\u001B[49m\u001B[38;5;241;43m1.\u001B[39;49m\u001B[43m \u001B[49m\u001B[38;5;241;43m/\u001B[39;49m\u001B[43m \u001B[49m\u001B[38;5;28;43mself\u001B[39;49m\u001B[38;5;241;43m.\u001B[39;49m\u001B[43mstep\u001B[49m\u001B[43m,\u001B[49m\u001B[43m \u001B[49m\n\u001B[1;32m    243\u001B[0m \u001B[43m                                                     \u001B[49m\u001B[38;5;28;43mself\u001B[39;49m\u001B[38;5;241;43m.\u001B[39;49m\u001B[43mworking_coefs\u001B[49m\u001B[43m,\u001B[49m\u001B[43m \u001B[49m\n\u001B[1;32m    244\u001B[0m \u001B[43m                                                     \u001B[49m\u001B[43mworking_grad\u001B[49m\u001B[43m,\u001B[49m\n\u001B[1;32m    245\u001B[0m \u001B[43m                                                     \u001B[49m\u001B[38;5;241;43m0\u001B[39;49m\u001B[43m)\u001B[49m\u001B[43m)\u001B[49m\n\u001B[1;32m    247\u001B[0m proposed_smooth \u001B[38;5;241m=\u001B[39m \u001B[38;5;28mself\u001B[39m\u001B[38;5;241m.\u001B[39mcomposite\u001B[38;5;241m.\u001B[39msmooth_objective(proposed_coefs, mode\u001B[38;5;241m=\u001B[39m\u001B[38;5;124m'\u001B[39m\u001B[38;5;124mfunc\u001B[39m\u001B[38;5;124m'\u001B[39m)\n\u001B[1;32m    249\u001B[0m \u001B[38;5;28;01mif\u001B[39;00m \u001B[38;5;129;01mnot\u001B[39;00m np\u001B[38;5;241m.\u001B[39misfinite(proposed_smooth):\n",
      "File \u001B[0;32m~/Documents/git/SI-MRT/SI_MRT/lib/python3.11/site-packages/regreg-0+untagged.1201.gd1b62cc.dirty-py3.11-macosx-13-arm64.egg/regreg/problems/composite.py:108\u001B[0m, in \u001B[0;36mcomposite.proximal_step\u001B[0;34m(self, quadratic, prox_control)\u001B[0m\n\u001B[1;32m    106\u001B[0m \u001B[38;5;66;03m# This seems like a null op -- if all proximals accept optional prox_control\u001B[39;00m\n\u001B[1;32m    107\u001B[0m \u001B[38;5;28;01mif\u001B[39;00m prox_control \u001B[38;5;129;01mis\u001B[39;00m \u001B[38;5;28;01mNone\u001B[39;00m:\n\u001B[0;32m--> 108\u001B[0m     \u001B[38;5;28;01mreturn\u001B[39;00m \u001B[38;5;28;43mself\u001B[39;49m\u001B[38;5;241;43m.\u001B[39;49m\u001B[43mproximal\u001B[49m\u001B[43m(\u001B[49m\u001B[43mquadratic\u001B[49m\u001B[43m)\u001B[49m\n\u001B[1;32m    109\u001B[0m \u001B[38;5;28;01melse\u001B[39;00m:\n\u001B[1;32m    110\u001B[0m     \u001B[38;5;28;01mreturn\u001B[39;00m \u001B[38;5;28mself\u001B[39m\u001B[38;5;241m.\u001B[39mproximal(quadratic, prox_control\u001B[38;5;241m=\u001B[39mprox_control)\n",
      "File \u001B[0;32m~/Documents/git/SI-MRT/SI_MRT/lib/python3.11/site-packages/regreg-0+untagged.1201.gd1b62cc.dirty-py3.11-macosx-13-arm64.egg/regreg/problems/simple.py:38\u001B[0m, in \u001B[0;36msimple_problem.proximal\u001B[0;34m(self, proxq)\u001B[0m\n\u001B[1;32m     37\u001B[0m \u001B[38;5;28;01mdef\u001B[39;00m \u001B[38;5;21mproximal\u001B[39m(\u001B[38;5;28mself\u001B[39m, proxq):\n\u001B[0;32m---> 38\u001B[0m     proxq \u001B[38;5;241m=\u001B[39m \u001B[43mproxq\u001B[49m\u001B[43m \u001B[49m\u001B[38;5;241;43m+\u001B[39;49m\u001B[43m \u001B[49m\u001B[38;5;28;43mself\u001B[39;49m\u001B[38;5;241;43m.\u001B[39;49m\u001B[43msmooth_atom\u001B[49m\u001B[38;5;241;43m.\u001B[39;49m\u001B[43mquadratic\u001B[49m \u001B[38;5;241m+\u001B[39m \u001B[38;5;28mself\u001B[39m\u001B[38;5;241m.\u001B[39mquadratic\n\u001B[1;32m     39\u001B[0m     \u001B[38;5;28;01mreturn\u001B[39;00m \u001B[38;5;28mself\u001B[39m\u001B[38;5;241m.\u001B[39mproximal_atom\u001B[38;5;241m.\u001B[39msolve(proxq)\n",
      "File \u001B[0;32m~/Documents/git/SI-MRT/SI_MRT/lib/python3.11/site-packages/regreg-0+untagged.1201.gd1b62cc.dirty-py3.11-macosx-13-arm64.egg/regreg/identity_quadratic.py:153\u001B[0m, in \u001B[0;36midentity_quadratic.__add__\u001B[0;34m(self, other)\u001B[0m\n\u001B[1;32m    151\u001B[0m     \u001B[38;5;28;01mreturn\u001B[39;00m \u001B[38;5;28mself\u001B[39m\n\u001B[1;32m    152\u001B[0m \u001B[38;5;28;01melse\u001B[39;00m:\n\u001B[0;32m--> 153\u001B[0m     sc \u001B[38;5;241m=\u001B[39m \u001B[38;5;28;43mself\u001B[39;49m\u001B[38;5;241;43m.\u001B[39;49m\u001B[43mcollapsed\u001B[49m\u001B[43m(\u001B[49m\u001B[43m)\u001B[49m\n\u001B[1;32m    154\u001B[0m     oc \u001B[38;5;241m=\u001B[39m other\u001B[38;5;241m.\u001B[39mcollapsed()\n\u001B[1;32m    155\u001B[0m     newq \u001B[38;5;241m=\u001B[39m identity_quadratic(sc\u001B[38;5;241m.\u001B[39mcoef \u001B[38;5;241m+\u001B[39m oc\u001B[38;5;241m.\u001B[39mcoef, \u001B[38;5;241m0\u001B[39m, \n\u001B[1;32m    156\u001B[0m                               sc\u001B[38;5;241m.\u001B[39mlinear_term \u001B[38;5;241m+\u001B[39m oc\u001B[38;5;241m.\u001B[39mlinear_term,\n\u001B[1;32m    157\u001B[0m                               sc\u001B[38;5;241m.\u001B[39mconstant_term \u001B[38;5;241m+\u001B[39m oc\u001B[38;5;241m.\u001B[39mconstant_term)\n",
      "File \u001B[0;32m~/Documents/git/SI-MRT/SI_MRT/lib/python3.11/site-packages/regreg-0+untagged.1201.gd1b62cc.dirty-py3.11-macosx-13-arm64.egg/regreg/identity_quadratic.py:208\u001B[0m, in \u001B[0;36midentity_quadratic.collapsed\u001B[0;34m(self)\u001B[0m\n\u001B[1;32m    206\u001B[0m     constant_term \u001B[38;5;241m+\u001B[39m\u001B[38;5;241m=\u001B[39m coef \u001B[38;5;241m*\u001B[39m norm(\u001B[38;5;28mself\u001B[39m\u001B[38;5;241m.\u001B[39mcenter)\u001B[38;5;241m*\u001B[39m\u001B[38;5;241m*\u001B[39m\u001B[38;5;241m2\u001B[39m \u001B[38;5;241m/\u001B[39m \u001B[38;5;241m2.\u001B[39m\n\u001B[1;32m    207\u001B[0m \u001B[38;5;28;01mif\u001B[39;00m \u001B[38;5;28mself\u001B[39m\u001B[38;5;241m.\u001B[39mlinear_term \u001B[38;5;129;01mis\u001B[39;00m \u001B[38;5;129;01mnot\u001B[39;00m \u001B[38;5;28;01mNone\u001B[39;00m:\n\u001B[0;32m--> 208\u001B[0m     \u001B[43mlinear_term\u001B[49m\u001B[43m \u001B[49m\u001B[38;5;241;43m+\u001B[39;49m\u001B[38;5;241;43m=\u001B[39;49m\u001B[43m \u001B[49m\u001B[38;5;28;43mself\u001B[39;49m\u001B[38;5;241;43m.\u001B[39;49m\u001B[43mlinear_term\u001B[49m\n\u001B[1;32m    210\u001B[0m \u001B[38;5;28;01mreturn\u001B[39;00m identity_quadratic(coef, \u001B[38;5;241m0\u001B[39m, linear_term, constant_term)\n",
      "\u001B[0;31mValueError\u001B[0m: operands could not be broadcast together with shapes (23,) (23,15641) (23,) "
     ]
    }
   ],
   "source": [
    "# Generate random X (n by p) and Y (n by 1)\n",
    "X = np.random.randn(n, p)\n",
    "Y = np.random.randn(n, 1)\n",
    "\n",
    "eps = np.random.standard_normal((n, 2000)) * Y.std()\n",
    "W = 50 * np.median(np.abs(X.T.dot(eps)).max(1))\n",
    "\n",
    "const = lasso.gaussian\n",
    "randomizer_scale = 1.\n",
    "conv = const(X,\n",
    "             Y,\n",
    "             W,\n",
    "             ridge_term=0.,\n",
    "             randomizer_scale=randomizer_scale * np.sqrt(dispersion))\n",
    "\n",
    "signs = conv.fit()\n",
    "nonzero = signs != 0"
   ],
   "metadata": {
    "collapsed": false,
    "ExecuteTime": {
     "end_time": "2024-06-23T20:08:42.589668Z",
     "start_time": "2024-06-23T20:08:37.721216Z"
    }
   },
   "id": "dd8d3e6645c56af1",
   "execution_count": 55
  },
  {
   "cell_type": "code",
   "outputs": [
    {
     "ename": "NameError",
     "evalue": "name 'data' is not defined",
     "output_type": "error",
     "traceback": [
      "\u001B[0;31m---------------------------------------------------------------------------\u001B[0m",
      "\u001B[0;31mNameError\u001B[0m                                 Traceback (most recent call last)",
      "Cell \u001B[0;32mIn[10], line 8\u001B[0m\n\u001B[1;32m      1\u001B[0m conv\u001B[38;5;241m.\u001B[39msetup_inference(dispersion\u001B[38;5;241m=\u001B[39mdispersion)\n\u001B[1;32m      3\u001B[0m target_spec \u001B[38;5;241m=\u001B[39m selected_targets(conv\u001B[38;5;241m.\u001B[39mloglike,\n\u001B[1;32m      4\u001B[0m                                conv\u001B[38;5;241m.\u001B[39mobserved_soln,\n\u001B[1;32m      5\u001B[0m                                dispersion\u001B[38;5;241m=\u001B[39mdispersion)\n\u001B[1;32m      7\u001B[0m target_spec \u001B[38;5;241m=\u001B[39m selected_targets_WCLS(conv\u001B[38;5;241m.\u001B[39mloglike,\n\u001B[0;32m----> 8\u001B[0m                                     \u001B[43mdata\u001B[49m,\n\u001B[1;32m      9\u001B[0m                                     conv\u001B[38;5;241m.\u001B[39mobserved_soln,\n\u001B[1;32m     10\u001B[0m                                     K \u001B[38;5;241m=\u001B[39m conv\u001B[38;5;241m.\u001B[39mK,\n\u001B[1;32m     11\u001B[0m                                     dispersion\u001B[38;5;241m=\u001B[39m \u001B[38;5;241m1\u001B[39m)\n\u001B[1;32m     14\u001B[0m result_exact \u001B[38;5;241m=\u001B[39m conv\u001B[38;5;241m.\u001B[39minference(target_spec)\n\u001B[1;32m     16\u001B[0m intervals \u001B[38;5;241m=\u001B[39m np\u001B[38;5;241m.\u001B[39masarray(result_exact[[\u001B[38;5;124m'\u001B[39m\u001B[38;5;124mlower_confidence\u001B[39m\u001B[38;5;124m'\u001B[39m, \u001B[38;5;124m'\u001B[39m\u001B[38;5;124mupper_confidence\u001B[39m\u001B[38;5;124m'\u001B[39m]])\n",
      "\u001B[0;31mNameError\u001B[0m: name 'data' is not defined"
     ]
    }
   ],
   "source": [
    "conv.setup_inference(dispersion=dispersion)\n",
    "\n",
    "# target_spec = selected_targets(conv.loglike,\n",
    "#                                conv.observed_soln,\n",
    "#                                dispersion=dispersion)\n",
    "\n",
    "target_spec = selected_targets_WCLS(conv.loglike,\n",
    "                                    data,\n",
    "                                    conv.observed_soln,\n",
    "                                    K = conv.K,\n",
    "                                    dispersion= 1)\n",
    "\n",
    "result_exact = conv.inference(target_spec)\n",
    "\n",
    "intervals = np.asarray(result_exact[['lower_confidence', 'upper_confidence']])\n",
    "lci = intervals[:, 0]\n",
    "uci = intervals[:, 1]\n",
    "print(\"check intervals \", lci, uci)\n",
    "\n",
    "\n",
    "#means and sds of selected columns\n",
    "\n",
    "print(np.mean(X[:,nonzero], axis=0))\n",
    "print(np.std(X[:,nonzero], axis=0))"
   ],
   "metadata": {
    "collapsed": false,
    "ExecuteTime": {
     "end_time": "2024-10-25T13:26:52.842433Z",
     "start_time": "2024-10-25T13:26:52.231294Z"
    }
   },
   "id": "400026197be0e166",
   "execution_count": 10
  },
  {
   "cell_type": "code",
   "outputs": [],
   "source": [],
   "metadata": {
    "collapsed": false
   },
   "id": "2c82c68bf6bacaca"
  }
 ],
 "metadata": {
  "kernelspec": {
   "display_name": "Python 3 (ipykernel)",
   "language": "python",
   "name": "python3"
  },
  "language_info": {
   "codemirror_mode": {
    "name": "ipython",
    "version": 3
   },
   "file_extension": ".py",
   "mimetype": "text/x-python",
   "name": "python",
   "nbconvert_exporter": "python",
   "pygments_lexer": "ipython3",
   "version": "3.9.12"
  }
 },
 "nbformat": 4,
 "nbformat_minor": 5
}
